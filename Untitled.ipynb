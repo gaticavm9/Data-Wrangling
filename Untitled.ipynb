{
 "cells": [
  {
   "cell_type": "code",
   "execution_count": 3,
   "id": "04e8378b-7ef8-49eb-898c-e27786dac35f",
   "metadata": {},
   "outputs": [
    {
     "name": "stdout",
     "output_type": "stream",
     "text": [
      "           A         B         C         D\n",
      "0   1.452954 -1.090261  0.278088  1.247208\n",
      "1  -0.514295  1.585670  0.037765 -1.333223\n",
      "2  -1.376137 -1.289148 -0.236890 -0.473079\n",
      "3  -0.120845  0.591236 -0.734701  1.261309\n",
      "4  -1.038895 -0.367037  1.256545 -0.219266\n",
      "5  -0.251995  1.043252 -1.301176 -0.374374\n",
      "6  -0.420617 -1.777325  0.810231  0.161453\n",
      "7   1.921346 -0.511681  1.273711  1.247208\n",
      "8  -0.233260 -0.150069  1.308043 -1.051208\n",
      "9   0.984561  0.717801  0.707236  0.894690\n",
      "10 -1.170045  1.549509 -1.575831  1.148503\n",
      "11  0.609847 -1.361470 -1.198181  0.669079\n",
      "12  1.284333  0.121140  1.411038 -1.065309\n",
      "13 -1.132573  0.374269  0.466913  0.852388\n",
      "14 -0.776595  0.464672 -1.078020 -1.220417\n",
      "15 -0.289467  0.446591  0.072097 -0.867899\n",
      "16  1.715254 -1.379551  0.329586 -1.446028\n",
      "17 -0.551766  1.115574 -0.751867 -0.966604\n",
      "18  0.141455  0.211543 -1.541499  0.993395\n",
      "19 -0.233260 -0.294714  0.466913  0.542172\n"
     ]
    }
   ],
   "source": [
    "import pandas as pd\n",
    "import numpy as np\n",
    "\n",
    "np.random.seed(0)\n",
    "\n",
    "df = pd.DataFrame(np.random.randint(-100,100,size=(20, 4)), columns=list('ABCD'))\n",
    "\n",
    "def mean_norm(df_input):\n",
    "    return df_input.apply(lambda x: (x-x.mean())/ x.std(), axis=0)\n",
    "\n",
    "df_mean_norm = mean_norm(df)\n",
    "print(df_mean_norm)"
   ]
  },
  {
   "cell_type": "code",
   "execution_count": 2,
   "id": "45d98a53-496f-411a-80fa-a1617238bdce",
   "metadata": {},
   "outputs": [
    {
     "data": {
      "text/plain": [
       "<AxesSubplot:>"
      ]
     },
     "execution_count": 2,
     "metadata": {},
     "output_type": "execute_result"
    },
    {
     "data": {
      "image/png": "[encoded data removed]",
      "text/plain": [
       "<Figure size 432x288 with 1 Axes>"
      ]
     },
     "metadata": {
      "needs_background": "light"
     },
     "output_type": "display_data"
    }
   ],
   "source": [
    "%matplotlib inline\n",
    "df['A'].plot(kind='bar')"
   ]
  },
  {
   "cell_type": "code",
   "execution_count": null,
   "id": "45e003ff-841d-4291-af7d-d50a1e8c3b25",
   "metadata": {},
   "outputs": [],
   "source": []
  }
 ],
 "metadata": {
  "kernelspec": {
   "display_name": "Python 3 (ipykernel)",
   "language": "python",
   "name": "python3"
  },
  "language_info": {
   "codemirror_mode": {
    "name": "ipython",
    "version": 3
   },
   "file_extension": ".py",
   "mimetype": "text/x-python",
   "name": "python",
   "nbconvert_exporter": "python",
   "pygments_lexer": "ipython3",
   "version": "3.9.7"
  }
 },
 "nbformat": 4,
 "nbformat_minor": 5
}
