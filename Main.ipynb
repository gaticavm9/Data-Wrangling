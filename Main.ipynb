{
 "cells": [
  {
   "cell_type": "markdown",
   "metadata": {},
   "source": [
    "# Proceso de preparación de los datos"
   ]
  },
  {
   "cell_type": "markdown",
   "metadata": {},
   "source": [
    "En este notebook se realizará el proceso completo de preparación de datos para así poder utilizar este set de datos en un posterior analisis de datos. A este proceso se le conoce con el nombre en ingles: **`Data Wrangling`**."
   ]
  },
  {
   "cell_type": "markdown",
   "metadata": {},
   "source": [
    "## Bibliotecas necesarias\n",
    "En primer lugar debemos importar las bibliotecas de Python Pandas y Numpy. Utlizaremos las estructuras de datos y operaciones que nos ofrecen estas librerías para preparar nuestros datos."
   ]
  },
  {
   "cell_type": "code",
   "execution_count": 93,
   "metadata": {},
   "outputs": [],
   "source": [
    "import pandas as pd\n",
    "import numpy as np"
   ]
  },
  {
   "cell_type": "markdown",
   "metadata": {},
   "source": [
    "## Buscar ubicación y leer la base de datos en formato \".csv\"\n",
    "Leemos el conjunto de datos presentes en el archivo .csv y lo almacenamos en una estructura de datos DataFrame."
   ]
  },
  {
   "cell_type": "code",
   "execution_count": 94,
   "metadata": {},
   "outputs": [],
   "source": [
    "path = \"./newview_202204281140.csv\"\n",
    "df = pd.read_csv(path, header = 0)"
   ]
  },
  {
   "cell_type": "markdown",
   "metadata": {},
   "source": [
    "## Revisar encabezados\n",
    "Revisamos si los datos de entrada poseen encabezado o no. De no ser así, debemos corregir esta situación agregandoles encabezados que nos permitan identificar los atributos del conjunto de datos.\n"
   ]
  },
  {
   "cell_type": "code",
   "execution_count": 95,
   "metadata": {},
   "outputs": [
    {
     "data": {
      "text/html": [
       "<div>\n",
       "<style scoped>\n",
       "    .dataframe tbody tr th:only-of-type {\n",
       "        vertical-align: middle;\n",
       "    }\n",
       "\n",
       "    .dataframe tbody tr th {\n",
       "        vertical-align: top;\n",
       "    }\n",
       "\n",
       "    .dataframe thead th {\n",
       "        text-align: right;\n",
       "    }\n",
       "</style>\n",
       "<table border=\"1\" class=\"dataframe\">\n",
       "  <thead>\n",
       "    <tr style=\"text-align: right;\">\n",
       "      <th></th>\n",
       "      <th>id</th>\n",
       "      <th>timestamp</th>\n",
       "      <th>pmv</th>\n",
       "      <th>ppd</th>\n",
       "      <th>co2</th>\n",
       "      <th>pm25</th>\n",
       "      <th>pm10</th>\n",
       "      <th>temp</th>\n",
       "      <th>hr</th>\n",
       "      <th>voc</th>\n",
       "      <th>co</th>\n",
       "      <th>no2</th>\n",
       "      <th>c2h5ch</th>\n",
       "      <th>idnodo</th>\n",
       "    </tr>\n",
       "  </thead>\n",
       "  <tbody>\n",
       "    <tr>\n",
       "      <th>0</th>\n",
       "      <td>3909814</td>\n",
       "      <td>2022-04-28 15:40:00</td>\n",
       "      <td>0.88</td>\n",
       "      <td>21.0</td>\n",
       "      <td>708.0</td>\n",
       "      <td>0.0</td>\n",
       "      <td>-1.0</td>\n",
       "      <td>27.3</td>\n",
       "      <td>50.0</td>\n",
       "      <td>39.0</td>\n",
       "      <td>1.56</td>\n",
       "      <td>55.0</td>\n",
       "      <td>103.0</td>\n",
       "      <td>fdba37</td>\n",
       "    </tr>\n",
       "    <tr>\n",
       "      <th>1</th>\n",
       "      <td>3909794</td>\n",
       "      <td>2022-04-28 15:38:00</td>\n",
       "      <td>0.88</td>\n",
       "      <td>21.0</td>\n",
       "      <td>708.0</td>\n",
       "      <td>0.0</td>\n",
       "      <td>?</td>\n",
       "      <td>27.3</td>\n",
       "      <td>49.</td>\n",
       "      <td>40.0</td>\n",
       "      <td>1.62</td>\n",
       "      <td>57.0</td>\n",
       "      <td>104.0</td>\n",
       "      <td>fdba37</td>\n",
       "    </tr>\n",
       "    <tr>\n",
       "      <th>2</th>\n",
       "      <td>3909774</td>\n",
       "      <td>2022-04-28 15:37:00</td>\n",
       "      <td>0.88</td>\n",
       "      <td>21.0</td>\n",
       "      <td>708.0</td>\n",
       "      <td>NaN</td>\n",
       "      <td>4.3</td>\n",
       "      <td>27.3</td>\n",
       "      <td>49.6</td>\n",
       "      <td>40.0</td>\n",
       "      <td>1.57</td>\n",
       "      <td>56.0</td>\n",
       "      <td>104.0</td>\n",
       "      <td>fdba37</td>\n",
       "    </tr>\n",
       "    <tr>\n",
       "      <th>3</th>\n",
       "      <td>3909754</td>\n",
       "      <td>2022-04-28 15:36:00</td>\n",
       "      <td>0.88</td>\n",
       "      <td>21.0</td>\n",
       "      <td>?</td>\n",
       "      <td>2.4</td>\n",
       "      <td>3.0</td>\n",
       "      <td>?</td>\n",
       "      <td>49.6</td>\n",
       "      <td>40.0</td>\n",
       "      <td>1.57</td>\n",
       "      <td>55.0</td>\n",
       "      <td>104.0</td>\n",
       "      <td>fdba37</td>\n",
       "    </tr>\n",
       "    <tr>\n",
       "      <th>4</th>\n",
       "      <td>3909734</td>\n",
       "      <td>2022-04-28 15:35:00</td>\n",
       "      <td>NaN</td>\n",
       "      <td>?</td>\n",
       "      <td>708.0</td>\n",
       "      <td>2.6</td>\n",
       "      <td>3.7</td>\n",
       "      <td>27.3</td>\n",
       "      <td>49.4</td>\n",
       "      <td>40.0</td>\n",
       "      <td>1.56</td>\n",
       "      <td>56.0</td>\n",
       "      <td>104.0</td>\n",
       "      <td>fdba37</td>\n",
       "    </tr>\n",
       "  </tbody>\n",
       "</table>\n",
       "</div>"
      ],
      "text/plain": [
       "        id            timestamp   pmv   ppd    co2 pm25  pm10  temp    hr  \\\n",
       "0  3909814  2022-04-28 15:40:00  0.88  21.0  708.0  0.0  -1.0  27.3  50.0   \n",
       "1  3909794  2022-04-28 15:38:00  0.88  21.0  708.0  0.0     ?  27.3   49.   \n",
       "2  3909774  2022-04-28 15:37:00  0.88  21.0  708.0  NaN   4.3  27.3  49.6   \n",
       "3  3909754  2022-04-28 15:36:00  0.88  21.0      ?  2.4   3.0     ?  49.6   \n",
       "4  3909734  2022-04-28 15:35:00   NaN     ?  708.0  2.6   3.7  27.3  49.4   \n",
       "\n",
       "    voc    co   no2 c2h5ch  idnodo  \n",
       "0  39.0  1.56  55.0  103.0  fdba37  \n",
       "1  40.0  1.62  57.0  104.0  fdba37  \n",
       "2  40.0  1.57  56.0  104.0  fdba37  \n",
       "3  40.0  1.57  55.0  104.0  fdba37  \n",
       "4  40.0  1.56  56.0  104.0  fdba37  "
      ]
     },
     "execution_count": 95,
     "metadata": {},
     "output_type": "execute_result"
    }
   ],
   "source": [
    "df.head()"
   ]
  },
  {
   "cell_type": "markdown",
   "metadata": {},
   "source": [
    "En caso de que los datos no posean encabezado, debemos crear una lista con todos los nombres que le vamos a asignar a los encabezados y los reemplazamos. Luego verificamos el cambio."
   ]
  },
  {
   "cell_type": "code",
   "execution_count": 96,
   "metadata": {},
   "outputs": [
    {
     "data": {
      "text/html": [
       "<div>\n",
       "<style scoped>\n",
       "    .dataframe tbody tr th:only-of-type {\n",
       "        vertical-align: middle;\n",
       "    }\n",
       "\n",
       "    .dataframe tbody tr th {\n",
       "        vertical-align: top;\n",
       "    }\n",
       "\n",
       "    .dataframe thead th {\n",
       "        text-align: right;\n",
       "    }\n",
       "</style>\n",
       "<table border=\"1\" class=\"dataframe\">\n",
       "  <thead>\n",
       "    <tr style=\"text-align: right;\">\n",
       "      <th></th>\n",
       "      <th>id</th>\n",
       "      <th>timestamp</th>\n",
       "      <th>pmv</th>\n",
       "      <th>ppd</th>\n",
       "      <th>co2</th>\n",
       "      <th>pm25</th>\n",
       "      <th>pm10</th>\n",
       "      <th>temp</th>\n",
       "      <th>hr</th>\n",
       "      <th>voc</th>\n",
       "      <th>co</th>\n",
       "      <th>no2</th>\n",
       "      <th>c2h5ch</th>\n",
       "      <th>idnodo</th>\n",
       "    </tr>\n",
       "  </thead>\n",
       "  <tbody>\n",
       "    <tr>\n",
       "      <th>0</th>\n",
       "      <td>3909814</td>\n",
       "      <td>2022-04-28 15:40:00</td>\n",
       "      <td>0.88</td>\n",
       "      <td>21.0</td>\n",
       "      <td>708.0</td>\n",
       "      <td>0.0</td>\n",
       "      <td>-1.0</td>\n",
       "      <td>27.3</td>\n",
       "      <td>50.0</td>\n",
       "      <td>39.0</td>\n",
       "      <td>1.56</td>\n",
       "      <td>55.0</td>\n",
       "      <td>103.0</td>\n",
       "      <td>fdba37</td>\n",
       "    </tr>\n",
       "    <tr>\n",
       "      <th>1</th>\n",
       "      <td>3909794</td>\n",
       "      <td>2022-04-28 15:38:00</td>\n",
       "      <td>0.88</td>\n",
       "      <td>21.0</td>\n",
       "      <td>708.0</td>\n",
       "      <td>0.0</td>\n",
       "      <td>?</td>\n",
       "      <td>27.3</td>\n",
       "      <td>49.</td>\n",
       "      <td>40.0</td>\n",
       "      <td>1.62</td>\n",
       "      <td>57.0</td>\n",
       "      <td>104.0</td>\n",
       "      <td>fdba37</td>\n",
       "    </tr>\n",
       "    <tr>\n",
       "      <th>2</th>\n",
       "      <td>3909774</td>\n",
       "      <td>2022-04-28 15:37:00</td>\n",
       "      <td>0.88</td>\n",
       "      <td>21.0</td>\n",
       "      <td>708.0</td>\n",
       "      <td>NaN</td>\n",
       "      <td>4.3</td>\n",
       "      <td>27.3</td>\n",
       "      <td>49.6</td>\n",
       "      <td>40.0</td>\n",
       "      <td>1.57</td>\n",
       "      <td>56.0</td>\n",
       "      <td>104.0</td>\n",
       "      <td>fdba37</td>\n",
       "    </tr>\n",
       "    <tr>\n",
       "      <th>3</th>\n",
       "      <td>3909754</td>\n",
       "      <td>2022-04-28 15:36:00</td>\n",
       "      <td>0.88</td>\n",
       "      <td>21.0</td>\n",
       "      <td>?</td>\n",
       "      <td>2.4</td>\n",
       "      <td>3.0</td>\n",
       "      <td>?</td>\n",
       "      <td>49.6</td>\n",
       "      <td>40.0</td>\n",
       "      <td>1.57</td>\n",
       "      <td>55.0</td>\n",
       "      <td>104.0</td>\n",
       "      <td>fdba37</td>\n",
       "    </tr>\n",
       "    <tr>\n",
       "      <th>4</th>\n",
       "      <td>3909734</td>\n",
       "      <td>2022-04-28 15:35:00</td>\n",
       "      <td>NaN</td>\n",
       "      <td>?</td>\n",
       "      <td>708.0</td>\n",
       "      <td>2.6</td>\n",
       "      <td>3.7</td>\n",
       "      <td>27.3</td>\n",
       "      <td>49.4</td>\n",
       "      <td>40.0</td>\n",
       "      <td>1.56</td>\n",
       "      <td>56.0</td>\n",
       "      <td>104.0</td>\n",
       "      <td>fdba37</td>\n",
       "    </tr>\n",
       "  </tbody>\n",
       "</table>\n",
       "</div>"
      ],
      "text/plain": [
       "        id            timestamp   pmv   ppd    co2 pm25  pm10  temp    hr  \\\n",
       "0  3909814  2022-04-28 15:40:00  0.88  21.0  708.0  0.0  -1.0  27.3  50.0   \n",
       "1  3909794  2022-04-28 15:38:00  0.88  21.0  708.0  0.0     ?  27.3   49.   \n",
       "2  3909774  2022-04-28 15:37:00  0.88  21.0  708.0  NaN   4.3  27.3  49.6   \n",
       "3  3909754  2022-04-28 15:36:00  0.88  21.0      ?  2.4   3.0     ?  49.6   \n",
       "4  3909734  2022-04-28 15:35:00   NaN     ?  708.0  2.6   3.7  27.3  49.4   \n",
       "\n",
       "    voc    co   no2 c2h5ch  idnodo  \n",
       "0  39.0  1.56  55.0  103.0  fdba37  \n",
       "1  40.0  1.62  57.0  104.0  fdba37  \n",
       "2  40.0  1.57  56.0  104.0  fdba37  \n",
       "3  40.0  1.57  55.0  104.0  fdba37  \n",
       "4  40.0  1.56  56.0  104.0  fdba37  "
      ]
     },
     "execution_count": 96,
     "metadata": {},
     "output_type": "execute_result"
    }
   ],
   "source": [
    "encabezados = [\"id\",\"timestamp\",\"pmv\",\"ppd\",\"co2\",\"pm25\",\"pm10\", \"temp\",\"hr\",\"voc\",\"co\",\"no2\",\"c2h5ch\",\"idnodo\"]\n",
    "df.columns = encabezados\n",
    "df.head()"
   ]
  },
  {
   "cell_type": "markdown",
   "metadata": {},
   "source": [
    "## Analisis básico\n",
    "Realizamos un análisis básico de los datos para ver el estado de estos con los métodos .describe() e .info()."
   ]
  },
  {
   "cell_type": "markdown",
   "metadata": {},
   "source": [
    "### Descripción\n",
    "Al utilizar el método .describe() se mostrará un resumen estadístico descriptivo que incluye: media, meadiana, máx, mín, desviación estandar (std), percentil 25%, percentil 50%, percentil 75% y conteos para cada columna en particular de los datos.\n",
    "\n",
    "**Podemos ver que algunos valores se muestran como **NaN**, esto es debido a que la función regresa los valores de estas estadísticas solo para las columnas numéricas.*"
   ]
  },
  {
   "cell_type": "code",
   "execution_count": 97,
   "metadata": {},
   "outputs": [
    {
     "data": {
      "text/html": [
       "<div>\n",
       "<style scoped>\n",
       "    .dataframe tbody tr th:only-of-type {\n",
       "        vertical-align: middle;\n",
       "    }\n",
       "\n",
       "    .dataframe tbody tr th {\n",
       "        vertical-align: top;\n",
       "    }\n",
       "\n",
       "    .dataframe thead th {\n",
       "        text-align: right;\n",
       "    }\n",
       "</style>\n",
       "<table border=\"1\" class=\"dataframe\">\n",
       "  <thead>\n",
       "    <tr style=\"text-align: right;\">\n",
       "      <th></th>\n",
       "      <th>id</th>\n",
       "      <th>timestamp</th>\n",
       "      <th>pmv</th>\n",
       "      <th>ppd</th>\n",
       "      <th>co2</th>\n",
       "      <th>pm25</th>\n",
       "      <th>pm10</th>\n",
       "      <th>temp</th>\n",
       "      <th>hr</th>\n",
       "      <th>voc</th>\n",
       "      <th>co</th>\n",
       "      <th>no2</th>\n",
       "      <th>c2h5ch</th>\n",
       "      <th>idnodo</th>\n",
       "    </tr>\n",
       "  </thead>\n",
       "  <tbody>\n",
       "    <tr>\n",
       "      <th>count</th>\n",
       "      <td>6.000000e+01</td>\n",
       "      <td>60</td>\n",
       "      <td>55</td>\n",
       "      <td>58</td>\n",
       "      <td>59</td>\n",
       "      <td>51</td>\n",
       "      <td>57</td>\n",
       "      <td>58</td>\n",
       "      <td>58</td>\n",
       "      <td>55</td>\n",
       "      <td>57</td>\n",
       "      <td>59</td>\n",
       "      <td>60</td>\n",
       "      <td>59</td>\n",
       "    </tr>\n",
       "    <tr>\n",
       "      <th>unique</th>\n",
       "      <td>NaN</td>\n",
       "      <td>60</td>\n",
       "      <td>11</td>\n",
       "      <td>6</td>\n",
       "      <td>3</td>\n",
       "      <td>28</td>\n",
       "      <td>43</td>\n",
       "      <td>5</td>\n",
       "      <td>23</td>\n",
       "      <td>7</td>\n",
       "      <td>25</td>\n",
       "      <td>14</td>\n",
       "      <td>4</td>\n",
       "      <td>1</td>\n",
       "    </tr>\n",
       "    <tr>\n",
       "      <th>top</th>\n",
       "      <td>NaN</td>\n",
       "      <td>2022-04-28 15:40:00</td>\n",
       "      <td>0.88</td>\n",
       "      <td>21.0</td>\n",
       "      <td>708.0</td>\n",
       "      <td>0.0</td>\n",
       "      <td>-1.0</td>\n",
       "      <td>27.3</td>\n",
       "      <td>49.8</td>\n",
       "      <td>40.0</td>\n",
       "      <td>1.57</td>\n",
       "      <td>55.0</td>\n",
       "      <td>103.0</td>\n",
       "      <td>fdba37</td>\n",
       "    </tr>\n",
       "    <tr>\n",
       "      <th>freq</th>\n",
       "      <td>NaN</td>\n",
       "      <td>1</td>\n",
       "      <td>22</td>\n",
       "      <td>32</td>\n",
       "      <td>56</td>\n",
       "      <td>7</td>\n",
       "      <td>7</td>\n",
       "      <td>30</td>\n",
       "      <td>8</td>\n",
       "      <td>33</td>\n",
       "      <td>5</td>\n",
       "      <td>10</td>\n",
       "      <td>38</td>\n",
       "      <td>59</td>\n",
       "    </tr>\n",
       "    <tr>\n",
       "      <th>mean</th>\n",
       "      <td>3.909224e+06</td>\n",
       "      <td>NaN</td>\n",
       "      <td>NaN</td>\n",
       "      <td>NaN</td>\n",
       "      <td>NaN</td>\n",
       "      <td>NaN</td>\n",
       "      <td>NaN</td>\n",
       "      <td>NaN</td>\n",
       "      <td>NaN</td>\n",
       "      <td>NaN</td>\n",
       "      <td>NaN</td>\n",
       "      <td>NaN</td>\n",
       "      <td>NaN</td>\n",
       "      <td>NaN</td>\n",
       "    </tr>\n",
       "    <tr>\n",
       "      <th>std</th>\n",
       "      <td>3.492850e+02</td>\n",
       "      <td>NaN</td>\n",
       "      <td>NaN</td>\n",
       "      <td>NaN</td>\n",
       "      <td>NaN</td>\n",
       "      <td>NaN</td>\n",
       "      <td>NaN</td>\n",
       "      <td>NaN</td>\n",
       "      <td>NaN</td>\n",
       "      <td>NaN</td>\n",
       "      <td>NaN</td>\n",
       "      <td>NaN</td>\n",
       "      <td>NaN</td>\n",
       "      <td>NaN</td>\n",
       "    </tr>\n",
       "    <tr>\n",
       "      <th>min</th>\n",
       "      <td>3.908634e+06</td>\n",
       "      <td>NaN</td>\n",
       "      <td>NaN</td>\n",
       "      <td>NaN</td>\n",
       "      <td>NaN</td>\n",
       "      <td>NaN</td>\n",
       "      <td>NaN</td>\n",
       "      <td>NaN</td>\n",
       "      <td>NaN</td>\n",
       "      <td>NaN</td>\n",
       "      <td>NaN</td>\n",
       "      <td>NaN</td>\n",
       "      <td>NaN</td>\n",
       "      <td>NaN</td>\n",
       "    </tr>\n",
       "    <tr>\n",
       "      <th>25%</th>\n",
       "      <td>3.908929e+06</td>\n",
       "      <td>NaN</td>\n",
       "      <td>NaN</td>\n",
       "      <td>NaN</td>\n",
       "      <td>NaN</td>\n",
       "      <td>NaN</td>\n",
       "      <td>NaN</td>\n",
       "      <td>NaN</td>\n",
       "      <td>NaN</td>\n",
       "      <td>NaN</td>\n",
       "      <td>NaN</td>\n",
       "      <td>NaN</td>\n",
       "      <td>NaN</td>\n",
       "      <td>NaN</td>\n",
       "    </tr>\n",
       "    <tr>\n",
       "      <th>50%</th>\n",
       "      <td>3.909224e+06</td>\n",
       "      <td>NaN</td>\n",
       "      <td>NaN</td>\n",
       "      <td>NaN</td>\n",
       "      <td>NaN</td>\n",
       "      <td>NaN</td>\n",
       "      <td>NaN</td>\n",
       "      <td>NaN</td>\n",
       "      <td>NaN</td>\n",
       "      <td>NaN</td>\n",
       "      <td>NaN</td>\n",
       "      <td>NaN</td>\n",
       "      <td>NaN</td>\n",
       "      <td>NaN</td>\n",
       "    </tr>\n",
       "    <tr>\n",
       "      <th>75%</th>\n",
       "      <td>3.909519e+06</td>\n",
       "      <td>NaN</td>\n",
       "      <td>NaN</td>\n",
       "      <td>NaN</td>\n",
       "      <td>NaN</td>\n",
       "      <td>NaN</td>\n",
       "      <td>NaN</td>\n",
       "      <td>NaN</td>\n",
       "      <td>NaN</td>\n",
       "      <td>NaN</td>\n",
       "      <td>NaN</td>\n",
       "      <td>NaN</td>\n",
       "      <td>NaN</td>\n",
       "      <td>NaN</td>\n",
       "    </tr>\n",
       "    <tr>\n",
       "      <th>max</th>\n",
       "      <td>3.909814e+06</td>\n",
       "      <td>NaN</td>\n",
       "      <td>NaN</td>\n",
       "      <td>NaN</td>\n",
       "      <td>NaN</td>\n",
       "      <td>NaN</td>\n",
       "      <td>NaN</td>\n",
       "      <td>NaN</td>\n",
       "      <td>NaN</td>\n",
       "      <td>NaN</td>\n",
       "      <td>NaN</td>\n",
       "      <td>NaN</td>\n",
       "      <td>NaN</td>\n",
       "      <td>NaN</td>\n",
       "    </tr>\n",
       "  </tbody>\n",
       "</table>\n",
       "</div>"
      ],
      "text/plain": [
       "                  id            timestamp   pmv   ppd    co2 pm25  pm10  temp  \\\n",
       "count   6.000000e+01                   60    55    58     59   51    57    58   \n",
       "unique           NaN                   60    11     6      3   28    43     5   \n",
       "top              NaN  2022-04-28 15:40:00  0.88  21.0  708.0  0.0  -1.0  27.3   \n",
       "freq             NaN                    1    22    32     56    7     7    30   \n",
       "mean    3.909224e+06                  NaN   NaN   NaN    NaN  NaN   NaN   NaN   \n",
       "std     3.492850e+02                  NaN   NaN   NaN    NaN  NaN   NaN   NaN   \n",
       "min     3.908634e+06                  NaN   NaN   NaN    NaN  NaN   NaN   NaN   \n",
       "25%     3.908929e+06                  NaN   NaN   NaN    NaN  NaN   NaN   NaN   \n",
       "50%     3.909224e+06                  NaN   NaN   NaN    NaN  NaN   NaN   NaN   \n",
       "75%     3.909519e+06                  NaN   NaN   NaN    NaN  NaN   NaN   NaN   \n",
       "max     3.909814e+06                  NaN   NaN   NaN    NaN  NaN   NaN   NaN   \n",
       "\n",
       "          hr   voc    co   no2 c2h5ch  idnodo  \n",
       "count     58    55    57    59     60      59  \n",
       "unique    23     7    25    14      4       1  \n",
       "top     49.8  40.0  1.57  55.0  103.0  fdba37  \n",
       "freq       8    33     5    10     38      59  \n",
       "mean     NaN   NaN   NaN   NaN    NaN     NaN  \n",
       "std      NaN   NaN   NaN   NaN    NaN     NaN  \n",
       "min      NaN   NaN   NaN   NaN    NaN     NaN  \n",
       "25%      NaN   NaN   NaN   NaN    NaN     NaN  \n",
       "50%      NaN   NaN   NaN   NaN    NaN     NaN  \n",
       "75%      NaN   NaN   NaN   NaN    NaN     NaN  \n",
       "max      NaN   NaN   NaN   NaN    NaN     NaN  "
      ]
     },
     "execution_count": 97,
     "metadata": {},
     "output_type": "execute_result"
    }
   ],
   "source": [
    "df.describe(include = \"all\")"
   ]
  },
  {
   "cell_type": "markdown",
   "metadata": {},
   "source": [
    "### Información\n",
    "El método info() imprime información sobre el DataFrame con los `indices de columnas`, `número de valores no-nulos`, tipos de datos de cada columna (`dtype`) y `uso de la memoria`."
   ]
  },
  {
   "cell_type": "code",
   "execution_count": 98,
   "metadata": {},
   "outputs": [
    {
     "name": "stdout",
     "output_type": "stream",
     "text": [
      "<class 'pandas.core.frame.DataFrame'>\n",
      "RangeIndex: 60 entries, 0 to 59\n",
      "Data columns (total 14 columns):\n",
      " #   Column     Non-Null Count  Dtype \n",
      "---  ------     --------------  ----- \n",
      " 0   id         60 non-null     int64 \n",
      " 1   timestamp  60 non-null     object\n",
      " 2   pmv        55 non-null     object\n",
      " 3   ppd        58 non-null     object\n",
      " 4   co2        59 non-null     object\n",
      " 5   pm25       51 non-null     object\n",
      " 6   pm10       57 non-null     object\n",
      " 7   temp       58 non-null     object\n",
      " 8   hr         58 non-null     object\n",
      " 9   voc        55 non-null     object\n",
      " 10  co         57 non-null     object\n",
      " 11  no2        59 non-null     object\n",
      " 12  c2h5ch     60 non-null     object\n",
      " 13  idnodo     59 non-null     object\n",
      "dtypes: int64(1), object(13)\n",
      "memory usage: 6.7+ KB\n"
     ]
    }
   ],
   "source": [
    "df.info()"
   ]
  },
  {
   "cell_type": "markdown",
   "metadata": {},
   "source": [
    "## Identificar y manipular valores faltantes"
   ]
  },
  {
   "cell_type": "markdown",
   "metadata": {},
   "source": [
    "### Verificar si hay datos nulos\n",
    "Utilizando la función .isnull() nos retorna una tabla donde si hay un valor en blanco devuelve `\"True\"` en el caso contrario devuelve `\"False\"`."
   ]
  },
  {
   "cell_type": "code",
   "execution_count": 99,
   "metadata": {},
   "outputs": [
    {
     "data": {
      "text/html": [
       "<div>\n",
       "<style scoped>\n",
       "    .dataframe tbody tr th:only-of-type {\n",
       "        vertical-align: middle;\n",
       "    }\n",
       "\n",
       "    .dataframe tbody tr th {\n",
       "        vertical-align: top;\n",
       "    }\n",
       "\n",
       "    .dataframe thead th {\n",
       "        text-align: right;\n",
       "    }\n",
       "</style>\n",
       "<table border=\"1\" class=\"dataframe\">\n",
       "  <thead>\n",
       "    <tr style=\"text-align: right;\">\n",
       "      <th></th>\n",
       "      <th>id</th>\n",
       "      <th>timestamp</th>\n",
       "      <th>pmv</th>\n",
       "      <th>ppd</th>\n",
       "      <th>co2</th>\n",
       "      <th>pm25</th>\n",
       "      <th>pm10</th>\n",
       "      <th>temp</th>\n",
       "      <th>hr</th>\n",
       "      <th>voc</th>\n",
       "      <th>co</th>\n",
       "      <th>no2</th>\n",
       "      <th>c2h5ch</th>\n",
       "      <th>idnodo</th>\n",
       "    </tr>\n",
       "  </thead>\n",
       "  <tbody>\n",
       "    <tr>\n",
       "      <th>0</th>\n",
       "      <td>False</td>\n",
       "      <td>False</td>\n",
       "      <td>False</td>\n",
       "      <td>False</td>\n",
       "      <td>False</td>\n",
       "      <td>False</td>\n",
       "      <td>False</td>\n",
       "      <td>False</td>\n",
       "      <td>False</td>\n",
       "      <td>False</td>\n",
       "      <td>False</td>\n",
       "      <td>False</td>\n",
       "      <td>False</td>\n",
       "      <td>False</td>\n",
       "    </tr>\n",
       "    <tr>\n",
       "      <th>1</th>\n",
       "      <td>False</td>\n",
       "      <td>False</td>\n",
       "      <td>False</td>\n",
       "      <td>False</td>\n",
       "      <td>False</td>\n",
       "      <td>False</td>\n",
       "      <td>False</td>\n",
       "      <td>False</td>\n",
       "      <td>False</td>\n",
       "      <td>False</td>\n",
       "      <td>False</td>\n",
       "      <td>False</td>\n",
       "      <td>False</td>\n",
       "      <td>False</td>\n",
       "    </tr>\n",
       "    <tr>\n",
       "      <th>2</th>\n",
       "      <td>False</td>\n",
       "      <td>False</td>\n",
       "      <td>False</td>\n",
       "      <td>False</td>\n",
       "      <td>False</td>\n",
       "      <td>True</td>\n",
       "      <td>False</td>\n",
       "      <td>False</td>\n",
       "      <td>False</td>\n",
       "      <td>False</td>\n",
       "      <td>False</td>\n",
       "      <td>False</td>\n",
       "      <td>False</td>\n",
       "      <td>False</td>\n",
       "    </tr>\n",
       "    <tr>\n",
       "      <th>3</th>\n",
       "      <td>False</td>\n",
       "      <td>False</td>\n",
       "      <td>False</td>\n",
       "      <td>False</td>\n",
       "      <td>False</td>\n",
       "      <td>False</td>\n",
       "      <td>False</td>\n",
       "      <td>False</td>\n",
       "      <td>False</td>\n",
       "      <td>False</td>\n",
       "      <td>False</td>\n",
       "      <td>False</td>\n",
       "      <td>False</td>\n",
       "      <td>False</td>\n",
       "    </tr>\n",
       "    <tr>\n",
       "      <th>4</th>\n",
       "      <td>False</td>\n",
       "      <td>False</td>\n",
       "      <td>True</td>\n",
       "      <td>False</td>\n",
       "      <td>False</td>\n",
       "      <td>False</td>\n",
       "      <td>False</td>\n",
       "      <td>False</td>\n",
       "      <td>False</td>\n",
       "      <td>False</td>\n",
       "      <td>False</td>\n",
       "      <td>False</td>\n",
       "      <td>False</td>\n",
       "      <td>False</td>\n",
       "    </tr>\n",
       "    <tr>\n",
       "      <th>5</th>\n",
       "      <td>False</td>\n",
       "      <td>False</td>\n",
       "      <td>False</td>\n",
       "      <td>False</td>\n",
       "      <td>False</td>\n",
       "      <td>True</td>\n",
       "      <td>False</td>\n",
       "      <td>False</td>\n",
       "      <td>False</td>\n",
       "      <td>False</td>\n",
       "      <td>True</td>\n",
       "      <td>False</td>\n",
       "      <td>False</td>\n",
       "      <td>False</td>\n",
       "    </tr>\n",
       "    <tr>\n",
       "      <th>6</th>\n",
       "      <td>False</td>\n",
       "      <td>False</td>\n",
       "      <td>False</td>\n",
       "      <td>False</td>\n",
       "      <td>False</td>\n",
       "      <td>False</td>\n",
       "      <td>False</td>\n",
       "      <td>True</td>\n",
       "      <td>False</td>\n",
       "      <td>False</td>\n",
       "      <td>False</td>\n",
       "      <td>True</td>\n",
       "      <td>False</td>\n",
       "      <td>False</td>\n",
       "    </tr>\n",
       "    <tr>\n",
       "      <th>7</th>\n",
       "      <td>False</td>\n",
       "      <td>False</td>\n",
       "      <td>True</td>\n",
       "      <td>False</td>\n",
       "      <td>False</td>\n",
       "      <td>False</td>\n",
       "      <td>True</td>\n",
       "      <td>False</td>\n",
       "      <td>False</td>\n",
       "      <td>False</td>\n",
       "      <td>False</td>\n",
       "      <td>False</td>\n",
       "      <td>False</td>\n",
       "      <td>False</td>\n",
       "    </tr>\n",
       "    <tr>\n",
       "      <th>8</th>\n",
       "      <td>False</td>\n",
       "      <td>False</td>\n",
       "      <td>False</td>\n",
       "      <td>False</td>\n",
       "      <td>False</td>\n",
       "      <td>True</td>\n",
       "      <td>False</td>\n",
       "      <td>False</td>\n",
       "      <td>False</td>\n",
       "      <td>False</td>\n",
       "      <td>False</td>\n",
       "      <td>False</td>\n",
       "      <td>False</td>\n",
       "      <td>False</td>\n",
       "    </tr>\n",
       "    <tr>\n",
       "      <th>9</th>\n",
       "      <td>False</td>\n",
       "      <td>False</td>\n",
       "      <td>False</td>\n",
       "      <td>False</td>\n",
       "      <td>False</td>\n",
       "      <td>False</td>\n",
       "      <td>False</td>\n",
       "      <td>False</td>\n",
       "      <td>True</td>\n",
       "      <td>False</td>\n",
       "      <td>False</td>\n",
       "      <td>False</td>\n",
       "      <td>False</td>\n",
       "      <td>False</td>\n",
       "    </tr>\n",
       "  </tbody>\n",
       "</table>\n",
       "</div>"
      ],
      "text/plain": [
       "      id  timestamp    pmv    ppd    co2   pm25   pm10   temp     hr    voc  \\\n",
       "0  False      False  False  False  False  False  False  False  False  False   \n",
       "1  False      False  False  False  False  False  False  False  False  False   \n",
       "2  False      False  False  False  False   True  False  False  False  False   \n",
       "3  False      False  False  False  False  False  False  False  False  False   \n",
       "4  False      False   True  False  False  False  False  False  False  False   \n",
       "5  False      False  False  False  False   True  False  False  False  False   \n",
       "6  False      False  False  False  False  False  False   True  False  False   \n",
       "7  False      False   True  False  False  False   True  False  False  False   \n",
       "8  False      False  False  False  False   True  False  False  False  False   \n",
       "9  False      False  False  False  False  False  False  False   True  False   \n",
       "\n",
       "      co    no2  c2h5ch  idnodo  \n",
       "0  False  False   False   False  \n",
       "1  False  False   False   False  \n",
       "2  False  False   False   False  \n",
       "3  False  False   False   False  \n",
       "4  False  False   False   False  \n",
       "5   True  False   False   False  \n",
       "6  False   True   False   False  \n",
       "7  False  False   False   False  \n",
       "8  False  False   False   False  \n",
       "9  False  False   False   False  "
      ]
     },
     "execution_count": 99,
     "metadata": {},
     "output_type": "execute_result"
    }
   ],
   "source": [
    "Datos_nulos = df.isnull()\n",
    "Datos_nulos.head(10)"
   ]
  },
  {
   "cell_type": "markdown",
   "metadata": {},
   "source": [
    "### Identificar valores incongruentes\n",
    "Identificar valores extraños como por ejemplo: `\"?\"`."
   ]
  },
  {
   "cell_type": "code",
   "execution_count": 100,
   "metadata": {},
   "outputs": [
    {
     "data": {
      "text/html": [
       "<div>\n",
       "<style scoped>\n",
       "    .dataframe tbody tr th:only-of-type {\n",
       "        vertical-align: middle;\n",
       "    }\n",
       "\n",
       "    .dataframe tbody tr th {\n",
       "        vertical-align: top;\n",
       "    }\n",
       "\n",
       "    .dataframe thead th {\n",
       "        text-align: right;\n",
       "    }\n",
       "</style>\n",
       "<table border=\"1\" class=\"dataframe\">\n",
       "  <thead>\n",
       "    <tr style=\"text-align: right;\">\n",
       "      <th></th>\n",
       "      <th>id</th>\n",
       "      <th>timestamp</th>\n",
       "      <th>pmv</th>\n",
       "      <th>ppd</th>\n",
       "      <th>co2</th>\n",
       "      <th>pm25</th>\n",
       "      <th>pm10</th>\n",
       "      <th>temp</th>\n",
       "      <th>hr</th>\n",
       "      <th>voc</th>\n",
       "      <th>co</th>\n",
       "      <th>no2</th>\n",
       "      <th>c2h5ch</th>\n",
       "      <th>idnodo</th>\n",
       "    </tr>\n",
       "  </thead>\n",
       "  <tbody>\n",
       "    <tr>\n",
       "      <th>0</th>\n",
       "      <td>3909814</td>\n",
       "      <td>2022-04-28 15:40:00</td>\n",
       "      <td>0.88</td>\n",
       "      <td>21.0</td>\n",
       "      <td>708.0</td>\n",
       "      <td>0.0</td>\n",
       "      <td>-1.0</td>\n",
       "      <td>27.3</td>\n",
       "      <td>50.0</td>\n",
       "      <td>39.0</td>\n",
       "      <td>1.56</td>\n",
       "      <td>55.0</td>\n",
       "      <td>103.0</td>\n",
       "      <td>fdba37</td>\n",
       "    </tr>\n",
       "    <tr>\n",
       "      <th>1</th>\n",
       "      <td>3909794</td>\n",
       "      <td>2022-04-28 15:38:00</td>\n",
       "      <td>0.88</td>\n",
       "      <td>21.0</td>\n",
       "      <td>708.0</td>\n",
       "      <td>0.0</td>\n",
       "      <td>?</td>\n",
       "      <td>27.3</td>\n",
       "      <td>49.</td>\n",
       "      <td>40.0</td>\n",
       "      <td>1.62</td>\n",
       "      <td>57.0</td>\n",
       "      <td>104.0</td>\n",
       "      <td>fdba37</td>\n",
       "    </tr>\n",
       "    <tr>\n",
       "      <th>2</th>\n",
       "      <td>3909774</td>\n",
       "      <td>2022-04-28 15:37:00</td>\n",
       "      <td>0.88</td>\n",
       "      <td>21.0</td>\n",
       "      <td>708.0</td>\n",
       "      <td>NaN</td>\n",
       "      <td>4.3</td>\n",
       "      <td>27.3</td>\n",
       "      <td>49.6</td>\n",
       "      <td>40.0</td>\n",
       "      <td>1.57</td>\n",
       "      <td>56.0</td>\n",
       "      <td>104.0</td>\n",
       "      <td>fdba37</td>\n",
       "    </tr>\n",
       "    <tr>\n",
       "      <th>3</th>\n",
       "      <td>3909754</td>\n",
       "      <td>2022-04-28 15:36:00</td>\n",
       "      <td>0.88</td>\n",
       "      <td>21.0</td>\n",
       "      <td>?</td>\n",
       "      <td>2.4</td>\n",
       "      <td>3.0</td>\n",
       "      <td>?</td>\n",
       "      <td>49.6</td>\n",
       "      <td>40.0</td>\n",
       "      <td>1.57</td>\n",
       "      <td>55.0</td>\n",
       "      <td>104.0</td>\n",
       "      <td>fdba37</td>\n",
       "    </tr>\n",
       "    <tr>\n",
       "      <th>4</th>\n",
       "      <td>3909734</td>\n",
       "      <td>2022-04-28 15:35:00</td>\n",
       "      <td>NaN</td>\n",
       "      <td>?</td>\n",
       "      <td>708.0</td>\n",
       "      <td>2.6</td>\n",
       "      <td>3.7</td>\n",
       "      <td>27.3</td>\n",
       "      <td>49.4</td>\n",
       "      <td>40.0</td>\n",
       "      <td>1.56</td>\n",
       "      <td>56.0</td>\n",
       "      <td>104.0</td>\n",
       "      <td>fdba37</td>\n",
       "    </tr>\n",
       "    <tr>\n",
       "      <th>5</th>\n",
       "      <td>3909714</td>\n",
       "      <td>2022-04-28 15:34:00</td>\n",
       "      <td>0.88</td>\n",
       "      <td>21.0</td>\n",
       "      <td>708.0</td>\n",
       "      <td>NaN</td>\n",
       "      <td>4.1</td>\n",
       "      <td>27.3</td>\n",
       "      <td>49.5</td>\n",
       "      <td>40.0</td>\n",
       "      <td>NaN</td>\n",
       "      <td>56.0</td>\n",
       "      <td>104.0</td>\n",
       "      <td>fdba37</td>\n",
       "    </tr>\n",
       "    <tr>\n",
       "      <th>6</th>\n",
       "      <td>3909694</td>\n",
       "      <td>2022-04-28 15:33:00</td>\n",
       "      <td>0.88</td>\n",
       "      <td>21.0</td>\n",
       "      <td>708.0</td>\n",
       "      <td>2.7</td>\n",
       "      <td>3.6</td>\n",
       "      <td>NaN</td>\n",
       "      <td>?</td>\n",
       "      <td>40.0</td>\n",
       "      <td>1.56</td>\n",
       "      <td>NaN</td>\n",
       "      <td>103.0</td>\n",
       "      <td>fdba37</td>\n",
       "    </tr>\n",
       "    <tr>\n",
       "      <th>7</th>\n",
       "      <td>3909674</td>\n",
       "      <td>2022-04-28 15:32:00</td>\n",
       "      <td>NaN</td>\n",
       "      <td>21.0</td>\n",
       "      <td>708.0</td>\n",
       "      <td>0.0</td>\n",
       "      <td>NaN</td>\n",
       "      <td>27.3</td>\n",
       "      <td>49.8</td>\n",
       "      <td>?</td>\n",
       "      <td>1.58</td>\n",
       "      <td>55.0</td>\n",
       "      <td>103.0</td>\n",
       "      <td>fdba37</td>\n",
       "    </tr>\n",
       "    <tr>\n",
       "      <th>8</th>\n",
       "      <td>3909654</td>\n",
       "      <td>2022-04-28 15:31:00</td>\n",
       "      <td>0.88</td>\n",
       "      <td>21.0</td>\n",
       "      <td>708.0</td>\n",
       "      <td>NaN</td>\n",
       "      <td>4.0</td>\n",
       "      <td>27.3</td>\n",
       "      <td>49.8</td>\n",
       "      <td>40.0</td>\n",
       "      <td>1.6</td>\n",
       "      <td>55.0</td>\n",
       "      <td>104.0</td>\n",
       "      <td>fdba37</td>\n",
       "    </tr>\n",
       "    <tr>\n",
       "      <th>9</th>\n",
       "      <td>3909634</td>\n",
       "      <td>2022-04-28 15:30:00</td>\n",
       "      <td>0.88</td>\n",
       "      <td>21.0</td>\n",
       "      <td>708.0</td>\n",
       "      <td>2.9</td>\n",
       "      <td>5.2</td>\n",
       "      <td>27.3</td>\n",
       "      <td>NaN</td>\n",
       "      <td>40.0</td>\n",
       "      <td>1.59</td>\n",
       "      <td>55.0</td>\n",
       "      <td>103.0</td>\n",
       "      <td>fdba37</td>\n",
       "    </tr>\n",
       "  </tbody>\n",
       "</table>\n",
       "</div>"
      ],
      "text/plain": [
       "        id            timestamp   pmv   ppd    co2 pm25  pm10  temp    hr  \\\n",
       "0  3909814  2022-04-28 15:40:00  0.88  21.0  708.0  0.0  -1.0  27.3  50.0   \n",
       "1  3909794  2022-04-28 15:38:00  0.88  21.0  708.0  0.0     ?  27.3   49.   \n",
       "2  3909774  2022-04-28 15:37:00  0.88  21.0  708.0  NaN   4.3  27.3  49.6   \n",
       "3  3909754  2022-04-28 15:36:00  0.88  21.0      ?  2.4   3.0     ?  49.6   \n",
       "4  3909734  2022-04-28 15:35:00   NaN     ?  708.0  2.6   3.7  27.3  49.4   \n",
       "5  3909714  2022-04-28 15:34:00  0.88  21.0  708.0  NaN   4.1  27.3  49.5   \n",
       "6  3909694  2022-04-28 15:33:00  0.88  21.0  708.0  2.7   3.6   NaN     ?   \n",
       "7  3909674  2022-04-28 15:32:00   NaN  21.0  708.0  0.0   NaN  27.3  49.8   \n",
       "8  3909654  2022-04-28 15:31:00  0.88  21.0  708.0  NaN   4.0  27.3  49.8   \n",
       "9  3909634  2022-04-28 15:30:00  0.88  21.0  708.0  2.9   5.2  27.3   NaN   \n",
       "\n",
       "    voc    co   no2 c2h5ch  idnodo  \n",
       "0  39.0  1.56  55.0  103.0  fdba37  \n",
       "1  40.0  1.62  57.0  104.0  fdba37  \n",
       "2  40.0  1.57  56.0  104.0  fdba37  \n",
       "3  40.0  1.57  55.0  104.0  fdba37  \n",
       "4  40.0  1.56  56.0  104.0  fdba37  \n",
       "5  40.0   NaN  56.0  104.0  fdba37  \n",
       "6  40.0  1.56   NaN  103.0  fdba37  \n",
       "7     ?  1.58  55.0  103.0  fdba37  \n",
       "8  40.0   1.6  55.0  104.0  fdba37  \n",
       "9  40.0  1.59  55.0  103.0  fdba37  "
      ]
     },
     "execution_count": 100,
     "metadata": {},
     "output_type": "execute_result"
    }
   ],
   "source": [
    "df.head(10)"
   ]
  },
  {
   "cell_type": "markdown",
   "metadata": {},
   "source": [
    "### Reemplazar valores incongruentes por \"NaN\"\n",
    "Siguiendo lo identificado anteriormente, reemplazamos los valores `\"?\"` por `\"NaN\"` que es nulo. Verificamos que se reemplazaron los valores."
   ]
  },
  {
   "cell_type": "code",
   "execution_count": 101,
   "metadata": {},
   "outputs": [
    {
     "data": {
      "text/html": [
       "<div>\n",
       "<style scoped>\n",
       "    .dataframe tbody tr th:only-of-type {\n",
       "        vertical-align: middle;\n",
       "    }\n",
       "\n",
       "    .dataframe tbody tr th {\n",
       "        vertical-align: top;\n",
       "    }\n",
       "\n",
       "    .dataframe thead th {\n",
       "        text-align: right;\n",
       "    }\n",
       "</style>\n",
       "<table border=\"1\" class=\"dataframe\">\n",
       "  <thead>\n",
       "    <tr style=\"text-align: right;\">\n",
       "      <th></th>\n",
       "      <th>id</th>\n",
       "      <th>timestamp</th>\n",
       "      <th>pmv</th>\n",
       "      <th>ppd</th>\n",
       "      <th>co2</th>\n",
       "      <th>pm25</th>\n",
       "      <th>pm10</th>\n",
       "      <th>temp</th>\n",
       "      <th>hr</th>\n",
       "      <th>voc</th>\n",
       "      <th>co</th>\n",
       "      <th>no2</th>\n",
       "      <th>c2h5ch</th>\n",
       "      <th>idnodo</th>\n",
       "    </tr>\n",
       "  </thead>\n",
       "  <tbody>\n",
       "    <tr>\n",
       "      <th>0</th>\n",
       "      <td>3909814</td>\n",
       "      <td>2022-04-28 15:40:00</td>\n",
       "      <td>0.88</td>\n",
       "      <td>21.0</td>\n",
       "      <td>708.0</td>\n",
       "      <td>0.0</td>\n",
       "      <td>-1.0</td>\n",
       "      <td>27.3</td>\n",
       "      <td>50.0</td>\n",
       "      <td>39.0</td>\n",
       "      <td>1.56</td>\n",
       "      <td>55.0</td>\n",
       "      <td>103.0</td>\n",
       "      <td>fdba37</td>\n",
       "    </tr>\n",
       "    <tr>\n",
       "      <th>1</th>\n",
       "      <td>3909794</td>\n",
       "      <td>2022-04-28 15:38:00</td>\n",
       "      <td>0.88</td>\n",
       "      <td>21.0</td>\n",
       "      <td>708.0</td>\n",
       "      <td>0.0</td>\n",
       "      <td>NaN</td>\n",
       "      <td>27.3</td>\n",
       "      <td>49.</td>\n",
       "      <td>40.0</td>\n",
       "      <td>1.62</td>\n",
       "      <td>57.0</td>\n",
       "      <td>104.0</td>\n",
       "      <td>fdba37</td>\n",
       "    </tr>\n",
       "    <tr>\n",
       "      <th>2</th>\n",
       "      <td>3909774</td>\n",
       "      <td>2022-04-28 15:37:00</td>\n",
       "      <td>0.88</td>\n",
       "      <td>21.0</td>\n",
       "      <td>708.0</td>\n",
       "      <td>NaN</td>\n",
       "      <td>4.3</td>\n",
       "      <td>27.3</td>\n",
       "      <td>49.6</td>\n",
       "      <td>40.0</td>\n",
       "      <td>1.57</td>\n",
       "      <td>56.0</td>\n",
       "      <td>104.0</td>\n",
       "      <td>fdba37</td>\n",
       "    </tr>\n",
       "    <tr>\n",
       "      <th>3</th>\n",
       "      <td>3909754</td>\n",
       "      <td>2022-04-28 15:36:00</td>\n",
       "      <td>0.88</td>\n",
       "      <td>21.0</td>\n",
       "      <td>NaN</td>\n",
       "      <td>2.4</td>\n",
       "      <td>3.0</td>\n",
       "      <td>NaN</td>\n",
       "      <td>49.6</td>\n",
       "      <td>40.0</td>\n",
       "      <td>1.57</td>\n",
       "      <td>55.0</td>\n",
       "      <td>104.0</td>\n",
       "      <td>fdba37</td>\n",
       "    </tr>\n",
       "    <tr>\n",
       "      <th>4</th>\n",
       "      <td>3909734</td>\n",
       "      <td>2022-04-28 15:35:00</td>\n",
       "      <td>NaN</td>\n",
       "      <td>NaN</td>\n",
       "      <td>708.0</td>\n",
       "      <td>2.6</td>\n",
       "      <td>3.7</td>\n",
       "      <td>27.3</td>\n",
       "      <td>49.4</td>\n",
       "      <td>40.0</td>\n",
       "      <td>1.56</td>\n",
       "      <td>56.0</td>\n",
       "      <td>104.0</td>\n",
       "      <td>fdba37</td>\n",
       "    </tr>\n",
       "    <tr>\n",
       "      <th>5</th>\n",
       "      <td>3909714</td>\n",
       "      <td>2022-04-28 15:34:00</td>\n",
       "      <td>0.88</td>\n",
       "      <td>21.0</td>\n",
       "      <td>708.0</td>\n",
       "      <td>NaN</td>\n",
       "      <td>4.1</td>\n",
       "      <td>27.3</td>\n",
       "      <td>49.5</td>\n",
       "      <td>40.0</td>\n",
       "      <td>NaN</td>\n",
       "      <td>56.0</td>\n",
       "      <td>104.0</td>\n",
       "      <td>fdba37</td>\n",
       "    </tr>\n",
       "    <tr>\n",
       "      <th>6</th>\n",
       "      <td>3909694</td>\n",
       "      <td>2022-04-28 15:33:00</td>\n",
       "      <td>0.88</td>\n",
       "      <td>21.0</td>\n",
       "      <td>708.0</td>\n",
       "      <td>2.7</td>\n",
       "      <td>3.6</td>\n",
       "      <td>NaN</td>\n",
       "      <td>NaN</td>\n",
       "      <td>40.0</td>\n",
       "      <td>1.56</td>\n",
       "      <td>NaN</td>\n",
       "      <td>103.0</td>\n",
       "      <td>fdba37</td>\n",
       "    </tr>\n",
       "    <tr>\n",
       "      <th>7</th>\n",
       "      <td>3909674</td>\n",
       "      <td>2022-04-28 15:32:00</td>\n",
       "      <td>NaN</td>\n",
       "      <td>21.0</td>\n",
       "      <td>708.0</td>\n",
       "      <td>0.0</td>\n",
       "      <td>NaN</td>\n",
       "      <td>27.3</td>\n",
       "      <td>49.8</td>\n",
       "      <td>NaN</td>\n",
       "      <td>1.58</td>\n",
       "      <td>55.0</td>\n",
       "      <td>103.0</td>\n",
       "      <td>fdba37</td>\n",
       "    </tr>\n",
       "    <tr>\n",
       "      <th>8</th>\n",
       "      <td>3909654</td>\n",
       "      <td>2022-04-28 15:31:00</td>\n",
       "      <td>0.88</td>\n",
       "      <td>21.0</td>\n",
       "      <td>708.0</td>\n",
       "      <td>NaN</td>\n",
       "      <td>4.0</td>\n",
       "      <td>27.3</td>\n",
       "      <td>49.8</td>\n",
       "      <td>40.0</td>\n",
       "      <td>1.6</td>\n",
       "      <td>55.0</td>\n",
       "      <td>104.0</td>\n",
       "      <td>fdba37</td>\n",
       "    </tr>\n",
       "    <tr>\n",
       "      <th>9</th>\n",
       "      <td>3909634</td>\n",
       "      <td>2022-04-28 15:30:00</td>\n",
       "      <td>0.88</td>\n",
       "      <td>21.0</td>\n",
       "      <td>708.0</td>\n",
       "      <td>2.9</td>\n",
       "      <td>5.2</td>\n",
       "      <td>27.3</td>\n",
       "      <td>NaN</td>\n",
       "      <td>40.0</td>\n",
       "      <td>1.59</td>\n",
       "      <td>55.0</td>\n",
       "      <td>103.0</td>\n",
       "      <td>fdba37</td>\n",
       "    </tr>\n",
       "  </tbody>\n",
       "</table>\n",
       "</div>"
      ],
      "text/plain": [
       "        id            timestamp   pmv   ppd    co2 pm25  pm10  temp    hr  \\\n",
       "0  3909814  2022-04-28 15:40:00  0.88  21.0  708.0  0.0  -1.0  27.3  50.0   \n",
       "1  3909794  2022-04-28 15:38:00  0.88  21.0  708.0  0.0   NaN  27.3   49.   \n",
       "2  3909774  2022-04-28 15:37:00  0.88  21.0  708.0  NaN   4.3  27.3  49.6   \n",
       "3  3909754  2022-04-28 15:36:00  0.88  21.0    NaN  2.4   3.0   NaN  49.6   \n",
       "4  3909734  2022-04-28 15:35:00   NaN   NaN  708.0  2.6   3.7  27.3  49.4   \n",
       "5  3909714  2022-04-28 15:34:00  0.88  21.0  708.0  NaN   4.1  27.3  49.5   \n",
       "6  3909694  2022-04-28 15:33:00  0.88  21.0  708.0  2.7   3.6   NaN   NaN   \n",
       "7  3909674  2022-04-28 15:32:00   NaN  21.0  708.0  0.0   NaN  27.3  49.8   \n",
       "8  3909654  2022-04-28 15:31:00  0.88  21.0  708.0  NaN   4.0  27.3  49.8   \n",
       "9  3909634  2022-04-28 15:30:00  0.88  21.0  708.0  2.9   5.2  27.3   NaN   \n",
       "\n",
       "    voc    co   no2 c2h5ch  idnodo  \n",
       "0  39.0  1.56  55.0  103.0  fdba37  \n",
       "1  40.0  1.62  57.0  104.0  fdba37  \n",
       "2  40.0  1.57  56.0  104.0  fdba37  \n",
       "3  40.0  1.57  55.0  104.0  fdba37  \n",
       "4  40.0  1.56  56.0  104.0  fdba37  \n",
       "5  40.0   NaN  56.0  104.0  fdba37  \n",
       "6  40.0  1.56   NaN  103.0  fdba37  \n",
       "7   NaN  1.58  55.0  103.0  fdba37  \n",
       "8  40.0   1.6  55.0  104.0  fdba37  \n",
       "9  40.0  1.59  55.0  103.0  fdba37  "
      ]
     },
     "execution_count": 101,
     "metadata": {},
     "output_type": "execute_result"
    }
   ],
   "source": [
    "df.replace(\"?\", np.nan, inplace = True)\n",
    "df.head(10)"
   ]
  },
  {
   "cell_type": "markdown",
   "metadata": {},
   "source": [
    "### Verificar si los datos cambiaron correctamente\n",
    "Si hay un valor en blanco devuelve `\"True\"` en el caso contrario devuelve `\"False\"`."
   ]
  },
  {
   "cell_type": "code",
   "execution_count": 102,
   "metadata": {},
   "outputs": [
    {
     "data": {
      "text/html": [
       "<div>\n",
       "<style scoped>\n",
       "    .dataframe tbody tr th:only-of-type {\n",
       "        vertical-align: middle;\n",
       "    }\n",
       "\n",
       "    .dataframe tbody tr th {\n",
       "        vertical-align: top;\n",
       "    }\n",
       "\n",
       "    .dataframe thead th {\n",
       "        text-align: right;\n",
       "    }\n",
       "</style>\n",
       "<table border=\"1\" class=\"dataframe\">\n",
       "  <thead>\n",
       "    <tr style=\"text-align: right;\">\n",
       "      <th></th>\n",
       "      <th>id</th>\n",
       "      <th>timestamp</th>\n",
       "      <th>pmv</th>\n",
       "      <th>ppd</th>\n",
       "      <th>co2</th>\n",
       "      <th>pm25</th>\n",
       "      <th>pm10</th>\n",
       "      <th>temp</th>\n",
       "      <th>hr</th>\n",
       "      <th>voc</th>\n",
       "      <th>co</th>\n",
       "      <th>no2</th>\n",
       "      <th>c2h5ch</th>\n",
       "      <th>idnodo</th>\n",
       "    </tr>\n",
       "  </thead>\n",
       "  <tbody>\n",
       "    <tr>\n",
       "      <th>0</th>\n",
       "      <td>False</td>\n",
       "      <td>False</td>\n",
       "      <td>False</td>\n",
       "      <td>False</td>\n",
       "      <td>False</td>\n",
       "      <td>False</td>\n",
       "      <td>False</td>\n",
       "      <td>False</td>\n",
       "      <td>False</td>\n",
       "      <td>False</td>\n",
       "      <td>False</td>\n",
       "      <td>False</td>\n",
       "      <td>False</td>\n",
       "      <td>False</td>\n",
       "    </tr>\n",
       "    <tr>\n",
       "      <th>1</th>\n",
       "      <td>False</td>\n",
       "      <td>False</td>\n",
       "      <td>False</td>\n",
       "      <td>False</td>\n",
       "      <td>False</td>\n",
       "      <td>False</td>\n",
       "      <td>True</td>\n",
       "      <td>False</td>\n",
       "      <td>False</td>\n",
       "      <td>False</td>\n",
       "      <td>False</td>\n",
       "      <td>False</td>\n",
       "      <td>False</td>\n",
       "      <td>False</td>\n",
       "    </tr>\n",
       "    <tr>\n",
       "      <th>2</th>\n",
       "      <td>False</td>\n",
       "      <td>False</td>\n",
       "      <td>False</td>\n",
       "      <td>False</td>\n",
       "      <td>False</td>\n",
       "      <td>True</td>\n",
       "      <td>False</td>\n",
       "      <td>False</td>\n",
       "      <td>False</td>\n",
       "      <td>False</td>\n",
       "      <td>False</td>\n",
       "      <td>False</td>\n",
       "      <td>False</td>\n",
       "      <td>False</td>\n",
       "    </tr>\n",
       "    <tr>\n",
       "      <th>3</th>\n",
       "      <td>False</td>\n",
       "      <td>False</td>\n",
       "      <td>False</td>\n",
       "      <td>False</td>\n",
       "      <td>True</td>\n",
       "      <td>False</td>\n",
       "      <td>False</td>\n",
       "      <td>True</td>\n",
       "      <td>False</td>\n",
       "      <td>False</td>\n",
       "      <td>False</td>\n",
       "      <td>False</td>\n",
       "      <td>False</td>\n",
       "      <td>False</td>\n",
       "    </tr>\n",
       "    <tr>\n",
       "      <th>4</th>\n",
       "      <td>False</td>\n",
       "      <td>False</td>\n",
       "      <td>True</td>\n",
       "      <td>True</td>\n",
       "      <td>False</td>\n",
       "      <td>False</td>\n",
       "      <td>False</td>\n",
       "      <td>False</td>\n",
       "      <td>False</td>\n",
       "      <td>False</td>\n",
       "      <td>False</td>\n",
       "      <td>False</td>\n",
       "      <td>False</td>\n",
       "      <td>False</td>\n",
       "    </tr>\n",
       "    <tr>\n",
       "      <th>5</th>\n",
       "      <td>False</td>\n",
       "      <td>False</td>\n",
       "      <td>False</td>\n",
       "      <td>False</td>\n",
       "      <td>False</td>\n",
       "      <td>True</td>\n",
       "      <td>False</td>\n",
       "      <td>False</td>\n",
       "      <td>False</td>\n",
       "      <td>False</td>\n",
       "      <td>True</td>\n",
       "      <td>False</td>\n",
       "      <td>False</td>\n",
       "      <td>False</td>\n",
       "    </tr>\n",
       "    <tr>\n",
       "      <th>6</th>\n",
       "      <td>False</td>\n",
       "      <td>False</td>\n",
       "      <td>False</td>\n",
       "      <td>False</td>\n",
       "      <td>False</td>\n",
       "      <td>False</td>\n",
       "      <td>False</td>\n",
       "      <td>True</td>\n",
       "      <td>True</td>\n",
       "      <td>False</td>\n",
       "      <td>False</td>\n",
       "      <td>True</td>\n",
       "      <td>False</td>\n",
       "      <td>False</td>\n",
       "    </tr>\n",
       "    <tr>\n",
       "      <th>7</th>\n",
       "      <td>False</td>\n",
       "      <td>False</td>\n",
       "      <td>True</td>\n",
       "      <td>False</td>\n",
       "      <td>False</td>\n",
       "      <td>False</td>\n",
       "      <td>True</td>\n",
       "      <td>False</td>\n",
       "      <td>False</td>\n",
       "      <td>True</td>\n",
       "      <td>False</td>\n",
       "      <td>False</td>\n",
       "      <td>False</td>\n",
       "      <td>False</td>\n",
       "    </tr>\n",
       "    <tr>\n",
       "      <th>8</th>\n",
       "      <td>False</td>\n",
       "      <td>False</td>\n",
       "      <td>False</td>\n",
       "      <td>False</td>\n",
       "      <td>False</td>\n",
       "      <td>True</td>\n",
       "      <td>False</td>\n",
       "      <td>False</td>\n",
       "      <td>False</td>\n",
       "      <td>False</td>\n",
       "      <td>False</td>\n",
       "      <td>False</td>\n",
       "      <td>False</td>\n",
       "      <td>False</td>\n",
       "    </tr>\n",
       "    <tr>\n",
       "      <th>9</th>\n",
       "      <td>False</td>\n",
       "      <td>False</td>\n",
       "      <td>False</td>\n",
       "      <td>False</td>\n",
       "      <td>False</td>\n",
       "      <td>False</td>\n",
       "      <td>False</td>\n",
       "      <td>False</td>\n",
       "      <td>True</td>\n",
       "      <td>False</td>\n",
       "      <td>False</td>\n",
       "      <td>False</td>\n",
       "      <td>False</td>\n",
       "      <td>False</td>\n",
       "    </tr>\n",
       "  </tbody>\n",
       "</table>\n",
       "</div>"
      ],
      "text/plain": [
       "      id  timestamp    pmv    ppd    co2   pm25   pm10   temp     hr    voc  \\\n",
       "0  False      False  False  False  False  False  False  False  False  False   \n",
       "1  False      False  False  False  False  False   True  False  False  False   \n",
       "2  False      False  False  False  False   True  False  False  False  False   \n",
       "3  False      False  False  False   True  False  False   True  False  False   \n",
       "4  False      False   True   True  False  False  False  False  False  False   \n",
       "5  False      False  False  False  False   True  False  False  False  False   \n",
       "6  False      False  False  False  False  False  False   True   True  False   \n",
       "7  False      False   True  False  False  False   True  False  False   True   \n",
       "8  False      False  False  False  False   True  False  False  False  False   \n",
       "9  False      False  False  False  False  False  False  False   True  False   \n",
       "\n",
       "      co    no2  c2h5ch  idnodo  \n",
       "0  False  False   False   False  \n",
       "1  False  False   False   False  \n",
       "2  False  False   False   False  \n",
       "3  False  False   False   False  \n",
       "4  False  False   False   False  \n",
       "5   True  False   False   False  \n",
       "6  False   True   False   False  \n",
       "7  False  False   False   False  \n",
       "8  False  False   False   False  \n",
       "9  False  False   False   False  "
      ]
     },
     "execution_count": 102,
     "metadata": {},
     "output_type": "execute_result"
    }
   ],
   "source": [
    "Datos_nulos = df.isnull()\n",
    "Datos_nulos.head(10)"
   ]
  },
  {
   "cell_type": "markdown",
   "metadata": {},
   "source": [
    "## Corregir el formato de los datos\n",
    "Del análisis básico pudimos ver que la mayoría de columnas se encuentran con tipo 'object', pero estas columnas deberían ser de tipo númerico. Entonces ocupando la función `\"pd.to_numeric()\"` realizamos esta corrección para las columnas que deberían ser de tipo númerico. Además agregamos el parametro `\"errors='coerce'\"` para dejar nulos `(NaN)`  aquellos datos que tienen error."
   ]
  },
  {
   "cell_type": "code",
   "execution_count": 103,
   "metadata": {},
   "outputs": [
    {
     "name": "stdout",
     "output_type": "stream",
     "text": [
      "<class 'pandas.core.frame.DataFrame'>\n",
      "RangeIndex: 60 entries, 0 to 59\n",
      "Data columns (total 14 columns):\n",
      " #   Column     Non-Null Count  Dtype  \n",
      "---  ------     --------------  -----  \n",
      " 0   id         60 non-null     int64  \n",
      " 1   timestamp  60 non-null     object \n",
      " 2   pmv        53 non-null     float64\n",
      " 3   ppd        55 non-null     float64\n",
      " 4   co2        57 non-null     float64\n",
      " 5   pm25       50 non-null     float64\n",
      " 6   pm10       56 non-null     float64\n",
      " 7   temp       56 non-null     float64\n",
      " 8   hr         56 non-null     float64\n",
      " 9   voc        52 non-null     float64\n",
      " 10  co         56 non-null     float64\n",
      " 11  no2        56 non-null     float64\n",
      " 12  c2h5ch     59 non-null     float64\n",
      " 13  idnodo     59 non-null     object \n",
      "dtypes: float64(11), int64(1), object(2)\n",
      "memory usage: 6.7+ KB\n"
     ]
    }
   ],
   "source": [
    "df[[\"pmv\",\"ppd\",\"co2\",\"pm25\",\"pm10\", \"temp\",\"hr\",\"voc\",\"co\",\"no2\",\"c2h5ch\"]] = df[[\"pmv\",\"ppd\",\"co2\",\"pm25\",\"pm10\", \"temp\",\"hr\",\"voc\",\"co\",\"no2\",\"c2h5ch\"]].apply(pd.to_numeric, errors='coerce')\n",
    "df.info()"
   ]
  },
  {
   "cell_type": "markdown",
   "metadata": {},
   "source": [
    "## Calcular el valor promedio de las columnas\n",
    " - \"pmv\"\n",
    " - \"ppd\"\n",
    " - \"co2\"\n",
    " - \"pm25\"\n",
    " - \"pm10\"\n",
    " - \"temp\"\n",
    " - \"hr\"\n",
    " - \"voc\"\n",
    " - \"co\"\n",
    " - \"no2\" \n"
   ]
  },
  {
   "cell_type": "markdown",
   "metadata": {},
   "source": [
    "- Columna \"pmv\""
   ]
  },
  {
   "cell_type": "code",
   "execution_count": 104,
   "metadata": {},
   "outputs": [
    {
     "name": "stdout",
     "output_type": "stream",
     "text": [
      "Promedio de pmv: 0.87\n"
     ]
    }
   ],
   "source": [
    "pmv_pro = round(df['pmv'].mean(axis=0),2)\n",
    "print(\"Promedio de pmv:\", pmv_pro)"
   ]
  },
  {
   "cell_type": "markdown",
   "metadata": {},
   "source": [
    "- Reemplazar \"NaN\" con el valor promedio en la columna \"pmv\"\n"
   ]
  },
  {
   "cell_type": "code",
   "execution_count": 155,
   "metadata": {},
   "outputs": [],
   "source": [
    "df['pmv'].replace(np.nan, pmv_pro, inplace=True)"
   ]
  },
  {
   "cell_type": "markdown",
   "metadata": {},
   "source": [
    "- Columna \"ppd\""
   ]
  },
  {
   "cell_type": "code",
   "execution_count": 156,
   "metadata": {},
   "outputs": [
    {
     "name": "stdout",
     "output_type": "stream",
     "text": [
      "Promedio de ppd: 20.8\n"
     ]
    }
   ],
   "source": [
    "ppd_pro = round(df['ppd'].mean(axis=0),1)\n",
    "print(\"Promedio de ppd:\", ppd_pro)"
   ]
  },
  {
   "cell_type": "markdown",
   "metadata": {},
   "source": [
    "- Reemplazar \"NaN\" con el valor promedio en la columna \"ppd\"\n"
   ]
  },
  {
   "cell_type": "code",
   "execution_count": 157,
   "metadata": {},
   "outputs": [],
   "source": [
    "df['ppd'].replace(np.nan, ppd_pro, inplace=True)"
   ]
  },
  {
   "cell_type": "markdown",
   "metadata": {},
   "source": [
    "- Columna \"co2\""
   ]
  },
  {
   "cell_type": "code",
   "execution_count": 158,
   "metadata": {},
   "outputs": [
    {
     "name": "stdout",
     "output_type": "stream",
     "text": [
      "Promedio de co2: 1.0\n"
     ]
    }
   ],
   "source": [
    "co2_pro = round(df['co2'].mean(axis=0),1)\n",
    "print(\"Promedio de co2:\", co2_pro)"
   ]
  },
  {
   "cell_type": "markdown",
   "metadata": {},
   "source": [
    "- Reemplazar \"NaN\" con el valor promedio en la columna \"co2\"\n"
   ]
  },
  {
   "cell_type": "code",
   "execution_count": 159,
   "metadata": {},
   "outputs": [],
   "source": [
    "df['co2'].replace(np.nan, co2_pro, inplace=True)"
   ]
  },
  {
   "cell_type": "markdown",
   "metadata": {},
   "source": [
    "- Columna \"pm25\""
   ]
  },
  {
   "cell_type": "code",
   "execution_count": 160,
   "metadata": {},
   "outputs": [
    {
     "name": "stdout",
     "output_type": "stream",
     "text": [
      "Promedio de pm25: 3.4\n"
     ]
    }
   ],
   "source": [
    "pm25_pro = round(df['pm25'].mean(axis=0),1)\n",
    "print(\"Promedio de pm25:\", pm25_pro)"
   ]
  },
  {
   "cell_type": "markdown",
   "metadata": {},
   "source": [
    "- Reemplazar \"NaN\" con el valor promedio en la columna \"pm25\"\n"
   ]
  },
  {
   "cell_type": "code",
   "execution_count": 111,
   "metadata": {},
   "outputs": [],
   "source": [
    "df['pm25'].replace(np.nan, pm25_pro, inplace=True)"
   ]
  },
  {
   "cell_type": "markdown",
   "metadata": {},
   "source": [
    "- Columna \"pm10\""
   ]
  },
  {
   "cell_type": "code",
   "execution_count": 112,
   "metadata": {},
   "outputs": [
    {
     "name": "stdout",
     "output_type": "stream",
     "text": [
      "Promedio de pm10: 6.9\n"
     ]
    }
   ],
   "source": [
    "pm10_pro = round(df['pm10'].mean(axis=0),1)\n",
    "print(\"Promedio de pm10:\", pm10_pro)"
   ]
  },
  {
   "cell_type": "markdown",
   "metadata": {},
   "source": [
    "- Reemplazar \"NaN\" con el valor promedio en la columna \"pm10\"\n"
   ]
  },
  {
   "cell_type": "code",
   "execution_count": 113,
   "metadata": {},
   "outputs": [],
   "source": [
    "df['pm10'].replace(np.nan, pm10_pro, inplace=True)"
   ]
  },
  {
   "cell_type": "markdown",
   "metadata": {},
   "source": [
    "- Columna \"temp\""
   ]
  },
  {
   "cell_type": "code",
   "execution_count": 114,
   "metadata": {},
   "outputs": [
    {
     "name": "stdout",
     "output_type": "stream",
     "text": [
      "Promedio de temp: 27.6\n"
     ]
    }
   ],
   "source": [
    "temp_pro = round(df['temp'].mean(axis=0),1)\n",
    "print(\"Promedio de temp:\", temp_pro)"
   ]
  },
  {
   "cell_type": "markdown",
   "metadata": {},
   "source": [
    "- Reemplazar \"NaN\" con el valor promedio en la columna \"temp\"\n"
   ]
  },
  {
   "cell_type": "code",
   "execution_count": 115,
   "metadata": {},
   "outputs": [],
   "source": [
    "df['temp'].replace(np.nan, temp_pro, inplace=True)"
   ]
  },
  {
   "cell_type": "markdown",
   "metadata": {},
   "source": [
    "- Columna \"hr\""
   ]
  },
  {
   "cell_type": "code",
   "execution_count": 116,
   "metadata": {},
   "outputs": [
    {
     "name": "stdout",
     "output_type": "stream",
     "text": [
      "Promedio de hr: 50.2\n"
     ]
    }
   ],
   "source": [
    "hr_pro = round(df['hr'].mean(axis=0),1)\n",
    "print(\"Promedio de hr:\", hr_pro)"
   ]
  },
  {
   "cell_type": "markdown",
   "metadata": {},
   "source": [
    "- Reemplazar \"NaN\" con el valor promedio en la columna \"hr\"\n"
   ]
  },
  {
   "cell_type": "code",
   "execution_count": 117,
   "metadata": {},
   "outputs": [],
   "source": [
    "df['hr'].replace(np.nan, hr_pro, inplace=True)"
   ]
  },
  {
   "cell_type": "markdown",
   "metadata": {},
   "source": [
    "- Columna \"voc\""
   ]
  },
  {
   "cell_type": "code",
   "execution_count": 118,
   "metadata": {},
   "outputs": [
    {
     "name": "stdout",
     "output_type": "stream",
     "text": [
      "Promedio de voc: 39.85961538461538\n"
     ]
    }
   ],
   "source": [
    "voc_pro = df['voc'].mean(axis=0)\n",
    "print(\"Promedio de voc:\", voc_pro)"
   ]
  },
  {
   "cell_type": "markdown",
   "metadata": {},
   "source": [
    "- Reemplazar \"NaN\" con el valor promedio en la columna \"voc\"\n"
   ]
  },
  {
   "cell_type": "code",
   "execution_count": 119,
   "metadata": {},
   "outputs": [],
   "source": [
    "df['voc'].replace(np.nan, voc_pro, inplace=True)"
   ]
  },
  {
   "cell_type": "markdown",
   "metadata": {},
   "source": [
    "- Columna \"co\""
   ]
  },
  {
   "cell_type": "code",
   "execution_count": 120,
   "metadata": {},
   "outputs": [
    {
     "name": "stdout",
     "output_type": "stream",
     "text": [
      "Promedio de co: 2.6232142857142855\n"
     ]
    }
   ],
   "source": [
    "co_pro = df['co'].mean(axis=0)\n",
    "print(\"Promedio de co:\", co_pro)"
   ]
  },
  {
   "cell_type": "markdown",
   "metadata": {},
   "source": [
    "- Reemplazar \"NaN\" con el valor promedio en la columna \"co\"\n"
   ]
  },
  {
   "cell_type": "code",
   "execution_count": 121,
   "metadata": {},
   "outputs": [],
   "source": [
    "df['co'].replace(np.nan, co_pro, inplace=True)"
   ]
  },
  {
   "cell_type": "markdown",
   "metadata": {},
   "source": [
    "- Columna \"no2\""
   ]
  },
  {
   "cell_type": "code",
   "execution_count": 122,
   "metadata": {},
   "outputs": [
    {
     "name": "stdout",
     "output_type": "stream",
     "text": [
      "Promedio de no2: 56.30357142857143\n"
     ]
    }
   ],
   "source": [
    "no2_pro = df['no2'].mean(axis=0)\n",
    "print(\"Promedio de no2:\", no2_pro)"
   ]
  },
  {
   "cell_type": "markdown",
   "metadata": {},
   "source": [
    "- Reemplazar \"NaN\" con el valor promedio en la columna \"no2\"\n"
   ]
  },
  {
   "cell_type": "code",
   "execution_count": 123,
   "metadata": {},
   "outputs": [],
   "source": [
    "df['no2'].replace(np.nan, no2_pro, inplace=True)"
   ]
  },
  {
   "cell_type": "markdown",
   "metadata": {},
   "source": [
    "- Columna \"c2h5ch\""
   ]
  },
  {
   "cell_type": "code",
   "execution_count": 124,
   "metadata": {},
   "outputs": [
    {
     "name": "stdout",
     "output_type": "stream",
     "text": [
      "Promedio de c2h5ch: 103.1\n"
     ]
    }
   ],
   "source": [
    "c2h5ch_pro = round(df['c2h5ch'].mean(axis=0),1)\n",
    "print(\"Promedio de c2h5ch:\", c2h5ch_pro)"
   ]
  },
  {
   "cell_type": "markdown",
   "metadata": {},
   "source": [
    "- Reemplazar \"NaN\" con el valor promedio en la columna \"c2h5ch\"\n"
   ]
  },
  {
   "cell_type": "code",
   "execution_count": 125,
   "metadata": {},
   "outputs": [],
   "source": [
    "df['c2h5ch'].replace(np.nan, c2h5ch_pro, inplace=True)"
   ]
  },
  {
   "cell_type": "markdown",
   "metadata": {},
   "source": [
    "## Verificar si se cambió correctamente el tipo de dato"
   ]
  },
  {
   "cell_type": "code",
   "execution_count": 126,
   "metadata": {},
   "outputs": [
    {
     "name": "stdout",
     "output_type": "stream",
     "text": [
      "<class 'pandas.core.frame.DataFrame'>\n",
      "RangeIndex: 60 entries, 0 to 59\n",
      "Data columns (total 14 columns):\n",
      " #   Column     Non-Null Count  Dtype  \n",
      "---  ------     --------------  -----  \n",
      " 0   id         60 non-null     int64  \n",
      " 1   timestamp  60 non-null     object \n",
      " 2   pmv        60 non-null     float64\n",
      " 3   ppd        60 non-null     float64\n",
      " 4   co2        60 non-null     float64\n",
      " 5   pm25       60 non-null     float64\n",
      " 6   pm10       60 non-null     float64\n",
      " 7   temp       60 non-null     float64\n",
      " 8   hr         60 non-null     float64\n",
      " 9   voc        60 non-null     float64\n",
      " 10  co         60 non-null     float64\n",
      " 11  no2        60 non-null     float64\n",
      " 12  c2h5ch     60 non-null     float64\n",
      " 13  idnodo     59 non-null     object \n",
      "dtypes: float64(11), int64(1), object(2)\n",
      "memory usage: 6.7+ KB\n"
     ]
    }
   ],
   "source": [
    "df.info()"
   ]
  },
  {
   "cell_type": "markdown",
   "metadata": {},
   "source": [
    "## Estandarizar los datos de entrada\n",
    "Ya que los datos pueden estar en diferentes formatos, la estandarización de datos nos ayuda a transformarlos a otro formato más adecuado. En este caso tenemos la temperatura en grados Celsius (°C), si en nuestro país se manejara la unidad de temperatura Kelvin (K), transformar los datos para la columna `temp` a grados Kelvin sería lo adecuado.\n",
    "\n",
    "A continuación se realizará el ejemplo de pasar los datos de °C a K."
   ]
  },
  {
   "cell_type": "code",
   "execution_count": 161,
   "metadata": {},
   "outputs": [
    {
     "data": {
      "text/html": [
       "<div>\n",
       "<style scoped>\n",
       "    .dataframe tbody tr th:only-of-type {\n",
       "        vertical-align: middle;\n",
       "    }\n",
       "\n",
       "    .dataframe tbody tr th {\n",
       "        vertical-align: top;\n",
       "    }\n",
       "\n",
       "    .dataframe thead th {\n",
       "        text-align: right;\n",
       "    }\n",
       "</style>\n",
       "<table border=\"1\" class=\"dataframe\">\n",
       "  <thead>\n",
       "    <tr style=\"text-align: right;\">\n",
       "      <th></th>\n",
       "      <th>id</th>\n",
       "      <th>timestamp</th>\n",
       "      <th>pmv</th>\n",
       "      <th>ppd</th>\n",
       "      <th>co2</th>\n",
       "      <th>pm25</th>\n",
       "      <th>pm10</th>\n",
       "      <th>temp</th>\n",
       "      <th>hr</th>\n",
       "      <th>voc</th>\n",
       "      <th>...</th>\n",
       "      <th>no2</th>\n",
       "      <th>c2h5ch</th>\n",
       "      <th>idnodo</th>\n",
       "      <th>temp(K)</th>\n",
       "      <th>pm25-clasificacion</th>\n",
       "      <th>disconformidad-19%</th>\n",
       "      <th>disconformidad-20%</th>\n",
       "      <th>20.8</th>\n",
       "      <th>disconformidad-21%</th>\n",
       "      <th>disconformidad-22%</th>\n",
       "    </tr>\n",
       "  </thead>\n",
       "  <tbody>\n",
       "    <tr>\n",
       "      <th>0</th>\n",
       "      <td>3909814</td>\n",
       "      <td>2022-04-28 15:40:00</td>\n",
       "      <td>0.88</td>\n",
       "      <td>21.0</td>\n",
       "      <td>1.000000</td>\n",
       "      <td>0.0</td>\n",
       "      <td>-1.0</td>\n",
       "      <td>27.3</td>\n",
       "      <td>50.0</td>\n",
       "      <td>0.906977</td>\n",
       "      <td>...</td>\n",
       "      <td>0.533981</td>\n",
       "      <td>0.990385</td>\n",
       "      <td>fdba37</td>\n",
       "      <td>300.45</td>\n",
       "      <td>Bajo</td>\n",
       "      <td>0</td>\n",
       "      <td>0</td>\n",
       "      <td>0</td>\n",
       "      <td>1</td>\n",
       "      <td>0</td>\n",
       "    </tr>\n",
       "    <tr>\n",
       "      <th>1</th>\n",
       "      <td>3909794</td>\n",
       "      <td>2022-04-28 15:38:00</td>\n",
       "      <td>0.88</td>\n",
       "      <td>21.0</td>\n",
       "      <td>1.000000</td>\n",
       "      <td>0.0</td>\n",
       "      <td>6.9</td>\n",
       "      <td>27.3</td>\n",
       "      <td>49.0</td>\n",
       "      <td>0.930233</td>\n",
       "      <td>...</td>\n",
       "      <td>0.553398</td>\n",
       "      <td>1.000000</td>\n",
       "      <td>fdba37</td>\n",
       "      <td>300.45</td>\n",
       "      <td>Bajo</td>\n",
       "      <td>0</td>\n",
       "      <td>0</td>\n",
       "      <td>0</td>\n",
       "      <td>1</td>\n",
       "      <td>0</td>\n",
       "    </tr>\n",
       "    <tr>\n",
       "      <th>2</th>\n",
       "      <td>3909774</td>\n",
       "      <td>2022-04-28 15:37:00</td>\n",
       "      <td>0.88</td>\n",
       "      <td>21.0</td>\n",
       "      <td>1.000000</td>\n",
       "      <td>3.4</td>\n",
       "      <td>4.3</td>\n",
       "      <td>27.3</td>\n",
       "      <td>49.6</td>\n",
       "      <td>0.930233</td>\n",
       "      <td>...</td>\n",
       "      <td>0.543689</td>\n",
       "      <td>1.000000</td>\n",
       "      <td>fdba37</td>\n",
       "      <td>300.45</td>\n",
       "      <td>Mediano</td>\n",
       "      <td>0</td>\n",
       "      <td>0</td>\n",
       "      <td>0</td>\n",
       "      <td>1</td>\n",
       "      <td>0</td>\n",
       "    </tr>\n",
       "    <tr>\n",
       "      <th>3</th>\n",
       "      <td>3909754</td>\n",
       "      <td>2022-04-28 15:36:00</td>\n",
       "      <td>0.88</td>\n",
       "      <td>21.0</td>\n",
       "      <td>0.982627</td>\n",
       "      <td>2.4</td>\n",
       "      <td>3.0</td>\n",
       "      <td>27.6</td>\n",
       "      <td>49.6</td>\n",
       "      <td>0.930233</td>\n",
       "      <td>...</td>\n",
       "      <td>0.533981</td>\n",
       "      <td>1.000000</td>\n",
       "      <td>fdba37</td>\n",
       "      <td>300.75</td>\n",
       "      <td>Bajo</td>\n",
       "      <td>0</td>\n",
       "      <td>0</td>\n",
       "      <td>0</td>\n",
       "      <td>1</td>\n",
       "      <td>0</td>\n",
       "    </tr>\n",
       "    <tr>\n",
       "      <th>4</th>\n",
       "      <td>3909734</td>\n",
       "      <td>2022-04-28 15:35:00</td>\n",
       "      <td>0.87</td>\n",
       "      <td>20.8</td>\n",
       "      <td>1.000000</td>\n",
       "      <td>2.6</td>\n",
       "      <td>3.7</td>\n",
       "      <td>27.3</td>\n",
       "      <td>49.4</td>\n",
       "      <td>0.930233</td>\n",
       "      <td>...</td>\n",
       "      <td>0.543689</td>\n",
       "      <td>1.000000</td>\n",
       "      <td>fdba37</td>\n",
       "      <td>300.45</td>\n",
       "      <td>Bajo</td>\n",
       "      <td>0</td>\n",
       "      <td>0</td>\n",
       "      <td>1</td>\n",
       "      <td>0</td>\n",
       "      <td>0</td>\n",
       "    </tr>\n",
       "    <tr>\n",
       "      <th>5</th>\n",
       "      <td>3909714</td>\n",
       "      <td>2022-04-28 15:34:00</td>\n",
       "      <td>0.88</td>\n",
       "      <td>21.0</td>\n",
       "      <td>1.000000</td>\n",
       "      <td>3.4</td>\n",
       "      <td>4.1</td>\n",
       "      <td>27.3</td>\n",
       "      <td>49.5</td>\n",
       "      <td>0.930233</td>\n",
       "      <td>...</td>\n",
       "      <td>0.543689</td>\n",
       "      <td>1.000000</td>\n",
       "      <td>fdba37</td>\n",
       "      <td>300.45</td>\n",
       "      <td>Mediano</td>\n",
       "      <td>0</td>\n",
       "      <td>0</td>\n",
       "      <td>0</td>\n",
       "      <td>1</td>\n",
       "      <td>0</td>\n",
       "    </tr>\n",
       "    <tr>\n",
       "      <th>6</th>\n",
       "      <td>3909694</td>\n",
       "      <td>2022-04-28 15:33:00</td>\n",
       "      <td>0.88</td>\n",
       "      <td>21.0</td>\n",
       "      <td>1.000000</td>\n",
       "      <td>2.7</td>\n",
       "      <td>3.6</td>\n",
       "      <td>27.6</td>\n",
       "      <td>50.2</td>\n",
       "      <td>0.930233</td>\n",
       "      <td>...</td>\n",
       "      <td>0.546637</td>\n",
       "      <td>0.990385</td>\n",
       "      <td>fdba37</td>\n",
       "      <td>300.75</td>\n",
       "      <td>Bajo</td>\n",
       "      <td>0</td>\n",
       "      <td>0</td>\n",
       "      <td>0</td>\n",
       "      <td>1</td>\n",
       "      <td>0</td>\n",
       "    </tr>\n",
       "    <tr>\n",
       "      <th>7</th>\n",
       "      <td>3909674</td>\n",
       "      <td>2022-04-28 15:32:00</td>\n",
       "      <td>0.87</td>\n",
       "      <td>21.0</td>\n",
       "      <td>1.000000</td>\n",
       "      <td>0.0</td>\n",
       "      <td>6.9</td>\n",
       "      <td>27.3</td>\n",
       "      <td>49.8</td>\n",
       "      <td>0.926968</td>\n",
       "      <td>...</td>\n",
       "      <td>0.533981</td>\n",
       "      <td>0.990385</td>\n",
       "      <td>fdba37</td>\n",
       "      <td>300.45</td>\n",
       "      <td>Bajo</td>\n",
       "      <td>0</td>\n",
       "      <td>0</td>\n",
       "      <td>0</td>\n",
       "      <td>1</td>\n",
       "      <td>0</td>\n",
       "    </tr>\n",
       "    <tr>\n",
       "      <th>8</th>\n",
       "      <td>3909654</td>\n",
       "      <td>2022-04-28 15:31:00</td>\n",
       "      <td>0.88</td>\n",
       "      <td>21.0</td>\n",
       "      <td>1.000000</td>\n",
       "      <td>3.4</td>\n",
       "      <td>4.0</td>\n",
       "      <td>27.3</td>\n",
       "      <td>49.8</td>\n",
       "      <td>0.930233</td>\n",
       "      <td>...</td>\n",
       "      <td>0.533981</td>\n",
       "      <td>1.000000</td>\n",
       "      <td>fdba37</td>\n",
       "      <td>300.45</td>\n",
       "      <td>Mediano</td>\n",
       "      <td>0</td>\n",
       "      <td>0</td>\n",
       "      <td>0</td>\n",
       "      <td>1</td>\n",
       "      <td>0</td>\n",
       "    </tr>\n",
       "    <tr>\n",
       "      <th>9</th>\n",
       "      <td>3909634</td>\n",
       "      <td>2022-04-28 15:30:00</td>\n",
       "      <td>0.88</td>\n",
       "      <td>21.0</td>\n",
       "      <td>1.000000</td>\n",
       "      <td>2.9</td>\n",
       "      <td>5.2</td>\n",
       "      <td>27.3</td>\n",
       "      <td>50.2</td>\n",
       "      <td>0.930233</td>\n",
       "      <td>...</td>\n",
       "      <td>0.533981</td>\n",
       "      <td>0.990385</td>\n",
       "      <td>fdba37</td>\n",
       "      <td>300.45</td>\n",
       "      <td>Bajo</td>\n",
       "      <td>0</td>\n",
       "      <td>0</td>\n",
       "      <td>0</td>\n",
       "      <td>1</td>\n",
       "      <td>0</td>\n",
       "    </tr>\n",
       "    <tr>\n",
       "      <th>10</th>\n",
       "      <td>3909614</td>\n",
       "      <td>2022-04-28 15:29:00</td>\n",
       "      <td>0.88</td>\n",
       "      <td>21.0</td>\n",
       "      <td>1.000000</td>\n",
       "      <td>3.4</td>\n",
       "      <td>6.8</td>\n",
       "      <td>27.3</td>\n",
       "      <td>49.8</td>\n",
       "      <td>0.930233</td>\n",
       "      <td>...</td>\n",
       "      <td>0.546637</td>\n",
       "      <td>1.000000</td>\n",
       "      <td>fdba37</td>\n",
       "      <td>300.45</td>\n",
       "      <td>Mediano</td>\n",
       "      <td>0</td>\n",
       "      <td>0</td>\n",
       "      <td>0</td>\n",
       "      <td>1</td>\n",
       "      <td>0</td>\n",
       "    </tr>\n",
       "    <tr>\n",
       "      <th>11</th>\n",
       "      <td>3909594</td>\n",
       "      <td>2022-04-28 15:28:00</td>\n",
       "      <td>0.88</td>\n",
       "      <td>21.0</td>\n",
       "      <td>1.000000</td>\n",
       "      <td>3.2</td>\n",
       "      <td>6.9</td>\n",
       "      <td>27.3</td>\n",
       "      <td>49.8</td>\n",
       "      <td>0.930233</td>\n",
       "      <td>...</td>\n",
       "      <td>0.524272</td>\n",
       "      <td>0.990385</td>\n",
       "      <td>fdba37</td>\n",
       "      <td>300.45</td>\n",
       "      <td>Bajo</td>\n",
       "      <td>0</td>\n",
       "      <td>0</td>\n",
       "      <td>0</td>\n",
       "      <td>1</td>\n",
       "      <td>0</td>\n",
       "    </tr>\n",
       "    <tr>\n",
       "      <th>12</th>\n",
       "      <td>3909574</td>\n",
       "      <td>2022-04-28 15:27:00</td>\n",
       "      <td>0.88</td>\n",
       "      <td>21.0</td>\n",
       "      <td>0.982627</td>\n",
       "      <td>3.9</td>\n",
       "      <td>6.8</td>\n",
       "      <td>27.3</td>\n",
       "      <td>49.9</td>\n",
       "      <td>0.926968</td>\n",
       "      <td>...</td>\n",
       "      <td>0.533981</td>\n",
       "      <td>0.990385</td>\n",
       "      <td>fdba37</td>\n",
       "      <td>300.45</td>\n",
       "      <td>Mediano</td>\n",
       "      <td>0</td>\n",
       "      <td>0</td>\n",
       "      <td>0</td>\n",
       "      <td>1</td>\n",
       "      <td>0</td>\n",
       "    </tr>\n",
       "    <tr>\n",
       "      <th>13</th>\n",
       "      <td>3909554</td>\n",
       "      <td>2022-04-28 15:26:00</td>\n",
       "      <td>0.88</td>\n",
       "      <td>21.0</td>\n",
       "      <td>0.982627</td>\n",
       "      <td>3.8</td>\n",
       "      <td>9.1</td>\n",
       "      <td>27.6</td>\n",
       "      <td>49.8</td>\n",
       "      <td>0.930233</td>\n",
       "      <td>...</td>\n",
       "      <td>0.546637</td>\n",
       "      <td>0.990385</td>\n",
       "      <td>fdba37</td>\n",
       "      <td>300.75</td>\n",
       "      <td>Mediano</td>\n",
       "      <td>0</td>\n",
       "      <td>0</td>\n",
       "      <td>0</td>\n",
       "      <td>1</td>\n",
       "      <td>0</td>\n",
       "    </tr>\n",
       "    <tr>\n",
       "      <th>14</th>\n",
       "      <td>3909534</td>\n",
       "      <td>2022-04-28 15:25:00</td>\n",
       "      <td>0.87</td>\n",
       "      <td>20.8</td>\n",
       "      <td>1.000000</td>\n",
       "      <td>3.9</td>\n",
       "      <td>6.6</td>\n",
       "      <td>27.3</td>\n",
       "      <td>49.7</td>\n",
       "      <td>0.953488</td>\n",
       "      <td>...</td>\n",
       "      <td>0.543689</td>\n",
       "      <td>0.990385</td>\n",
       "      <td>fdba37</td>\n",
       "      <td>300.45</td>\n",
       "      <td>Mediano</td>\n",
       "      <td>0</td>\n",
       "      <td>0</td>\n",
       "      <td>1</td>\n",
       "      <td>0</td>\n",
       "      <td>0</td>\n",
       "    </tr>\n",
       "    <tr>\n",
       "      <th>15</th>\n",
       "      <td>3909514</td>\n",
       "      <td>2022-04-28 15:24:00</td>\n",
       "      <td>0.88</td>\n",
       "      <td>21.0</td>\n",
       "      <td>1.000000</td>\n",
       "      <td>3.4</td>\n",
       "      <td>6.0</td>\n",
       "      <td>27.3</td>\n",
       "      <td>49.9</td>\n",
       "      <td>0.930233</td>\n",
       "      <td>...</td>\n",
       "      <td>0.553398</td>\n",
       "      <td>0.990385</td>\n",
       "      <td>fdba37</td>\n",
       "      <td>300.45</td>\n",
       "      <td>Mediano</td>\n",
       "      <td>0</td>\n",
       "      <td>0</td>\n",
       "      <td>0</td>\n",
       "      <td>1</td>\n",
       "      <td>0</td>\n",
       "    </tr>\n",
       "    <tr>\n",
       "      <th>16</th>\n",
       "      <td>3909494</td>\n",
       "      <td>2022-04-28 15:23:00</td>\n",
       "      <td>0.88</td>\n",
       "      <td>21.0</td>\n",
       "      <td>1.000000</td>\n",
       "      <td>3.4</td>\n",
       "      <td>6.9</td>\n",
       "      <td>27.3</td>\n",
       "      <td>49.9</td>\n",
       "      <td>0.953488</td>\n",
       "      <td>...</td>\n",
       "      <td>0.553398</td>\n",
       "      <td>1.000000</td>\n",
       "      <td>fdba37</td>\n",
       "      <td>300.45</td>\n",
       "      <td>Mediano</td>\n",
       "      <td>0</td>\n",
       "      <td>0</td>\n",
       "      <td>0</td>\n",
       "      <td>1</td>\n",
       "      <td>0</td>\n",
       "    </tr>\n",
       "    <tr>\n",
       "      <th>17</th>\n",
       "      <td>3909474</td>\n",
       "      <td>2022-04-28 15:22:00</td>\n",
       "      <td>0.88</td>\n",
       "      <td>21.0</td>\n",
       "      <td>1.000000</td>\n",
       "      <td>3.9</td>\n",
       "      <td>7.7</td>\n",
       "      <td>27.3</td>\n",
       "      <td>49.8</td>\n",
       "      <td>0.930233</td>\n",
       "      <td>...</td>\n",
       "      <td>0.563107</td>\n",
       "      <td>1.000000</td>\n",
       "      <td>fdba37</td>\n",
       "      <td>300.45</td>\n",
       "      <td>Mediano</td>\n",
       "      <td>0</td>\n",
       "      <td>0</td>\n",
       "      <td>0</td>\n",
       "      <td>1</td>\n",
       "      <td>0</td>\n",
       "    </tr>\n",
       "    <tr>\n",
       "      <th>18</th>\n",
       "      <td>3909454</td>\n",
       "      <td>2022-04-28 15:21:00</td>\n",
       "      <td>0.88</td>\n",
       "      <td>21.0</td>\n",
       "      <td>1.000000</td>\n",
       "      <td>3.5</td>\n",
       "      <td>5.3</td>\n",
       "      <td>27.3</td>\n",
       "      <td>49.9</td>\n",
       "      <td>0.926968</td>\n",
       "      <td>...</td>\n",
       "      <td>0.553398</td>\n",
       "      <td>0.990385</td>\n",
       "      <td>fdba37</td>\n",
       "      <td>300.45</td>\n",
       "      <td>Mediano</td>\n",
       "      <td>0</td>\n",
       "      <td>0</td>\n",
       "      <td>0</td>\n",
       "      <td>1</td>\n",
       "      <td>0</td>\n",
       "    </tr>\n",
       "    <tr>\n",
       "      <th>19</th>\n",
       "      <td>3909434</td>\n",
       "      <td>2022-04-28 15:20:00</td>\n",
       "      <td>0.88</td>\n",
       "      <td>21.0</td>\n",
       "      <td>1.000000</td>\n",
       "      <td>3.4</td>\n",
       "      <td>6.9</td>\n",
       "      <td>27.3</td>\n",
       "      <td>50.1</td>\n",
       "      <td>0.930233</td>\n",
       "      <td>...</td>\n",
       "      <td>0.546637</td>\n",
       "      <td>0.990385</td>\n",
       "      <td>fdba37</td>\n",
       "      <td>300.45</td>\n",
       "      <td>Mediano</td>\n",
       "      <td>0</td>\n",
       "      <td>0</td>\n",
       "      <td>0</td>\n",
       "      <td>1</td>\n",
       "      <td>0</td>\n",
       "    </tr>\n",
       "  </tbody>\n",
       "</table>\n",
       "<p>20 rows × 21 columns</p>\n",
       "</div>"
      ],
      "text/plain": [
       "         id            timestamp   pmv   ppd       co2  pm25  pm10  temp  \\\n",
       "0   3909814  2022-04-28 15:40:00  0.88  21.0  1.000000   0.0  -1.0  27.3   \n",
       "1   3909794  2022-04-28 15:38:00  0.88  21.0  1.000000   0.0   6.9  27.3   \n",
       "2   3909774  2022-04-28 15:37:00  0.88  21.0  1.000000   3.4   4.3  27.3   \n",
       "3   3909754  2022-04-28 15:36:00  0.88  21.0  0.982627   2.4   3.0  27.6   \n",
       "4   3909734  2022-04-28 15:35:00  0.87  20.8  1.000000   2.6   3.7  27.3   \n",
       "5   3909714  2022-04-28 15:34:00  0.88  21.0  1.000000   3.4   4.1  27.3   \n",
       "6   3909694  2022-04-28 15:33:00  0.88  21.0  1.000000   2.7   3.6  27.6   \n",
       "7   3909674  2022-04-28 15:32:00  0.87  21.0  1.000000   0.0   6.9  27.3   \n",
       "8   3909654  2022-04-28 15:31:00  0.88  21.0  1.000000   3.4   4.0  27.3   \n",
       "9   3909634  2022-04-28 15:30:00  0.88  21.0  1.000000   2.9   5.2  27.3   \n",
       "10  3909614  2022-04-28 15:29:00  0.88  21.0  1.000000   3.4   6.8  27.3   \n",
       "11  3909594  2022-04-28 15:28:00  0.88  21.0  1.000000   3.2   6.9  27.3   \n",
       "12  3909574  2022-04-28 15:27:00  0.88  21.0  0.982627   3.9   6.8  27.3   \n",
       "13  3909554  2022-04-28 15:26:00  0.88  21.0  0.982627   3.8   9.1  27.6   \n",
       "14  3909534  2022-04-28 15:25:00  0.87  20.8  1.000000   3.9   6.6  27.3   \n",
       "15  3909514  2022-04-28 15:24:00  0.88  21.0  1.000000   3.4   6.0  27.3   \n",
       "16  3909494  2022-04-28 15:23:00  0.88  21.0  1.000000   3.4   6.9  27.3   \n",
       "17  3909474  2022-04-28 15:22:00  0.88  21.0  1.000000   3.9   7.7  27.3   \n",
       "18  3909454  2022-04-28 15:21:00  0.88  21.0  1.000000   3.5   5.3  27.3   \n",
       "19  3909434  2022-04-28 15:20:00  0.88  21.0  1.000000   3.4   6.9  27.3   \n",
       "\n",
       "      hr       voc  ...       no2    c2h5ch  idnodo temp(K)  \\\n",
       "0   50.0  0.906977  ...  0.533981  0.990385  fdba37  300.45   \n",
       "1   49.0  0.930233  ...  0.553398  1.000000  fdba37  300.45   \n",
       "2   49.6  0.930233  ...  0.543689  1.000000  fdba37  300.45   \n",
       "3   49.6  0.930233  ...  0.533981  1.000000  fdba37  300.75   \n",
       "4   49.4  0.930233  ...  0.543689  1.000000  fdba37  300.45   \n",
       "5   49.5  0.930233  ...  0.543689  1.000000  fdba37  300.45   \n",
       "6   50.2  0.930233  ...  0.546637  0.990385  fdba37  300.75   \n",
       "7   49.8  0.926968  ...  0.533981  0.990385  fdba37  300.45   \n",
       "8   49.8  0.930233  ...  0.533981  1.000000  fdba37  300.45   \n",
       "9   50.2  0.930233  ...  0.533981  0.990385  fdba37  300.45   \n",
       "10  49.8  0.930233  ...  0.546637  1.000000  fdba37  300.45   \n",
       "11  49.8  0.930233  ...  0.524272  0.990385  fdba37  300.45   \n",
       "12  49.9  0.926968  ...  0.533981  0.990385  fdba37  300.45   \n",
       "13  49.8  0.930233  ...  0.546637  0.990385  fdba37  300.75   \n",
       "14  49.7  0.953488  ...  0.543689  0.990385  fdba37  300.45   \n",
       "15  49.9  0.930233  ...  0.553398  0.990385  fdba37  300.45   \n",
       "16  49.9  0.953488  ...  0.553398  1.000000  fdba37  300.45   \n",
       "17  49.8  0.930233  ...  0.563107  1.000000  fdba37  300.45   \n",
       "18  49.9  0.926968  ...  0.553398  0.990385  fdba37  300.45   \n",
       "19  50.1  0.930233  ...  0.546637  0.990385  fdba37  300.45   \n",
       "\n",
       "    pm25-clasificacion disconformidad-19%  disconformidad-20%  20.8  \\\n",
       "0                 Bajo                  0                   0     0   \n",
       "1                 Bajo                  0                   0     0   \n",
       "2              Mediano                  0                   0     0   \n",
       "3                 Bajo                  0                   0     0   \n",
       "4                 Bajo                  0                   0     1   \n",
       "5              Mediano                  0                   0     0   \n",
       "6                 Bajo                  0                   0     0   \n",
       "7                 Bajo                  0                   0     0   \n",
       "8              Mediano                  0                   0     0   \n",
       "9                 Bajo                  0                   0     0   \n",
       "10             Mediano                  0                   0     0   \n",
       "11                Bajo                  0                   0     0   \n",
       "12             Mediano                  0                   0     0   \n",
       "13             Mediano                  0                   0     0   \n",
       "14             Mediano                  0                   0     1   \n",
       "15             Mediano                  0                   0     0   \n",
       "16             Mediano                  0                   0     0   \n",
       "17             Mediano                  0                   0     0   \n",
       "18             Mediano                  0                   0     0   \n",
       "19             Mediano                  0                   0     0   \n",
       "\n",
       "    disconformidad-21%  disconformidad-22%  \n",
       "0                    1                   0  \n",
       "1                    1                   0  \n",
       "2                    1                   0  \n",
       "3                    1                   0  \n",
       "4                    0                   0  \n",
       "5                    1                   0  \n",
       "6                    1                   0  \n",
       "7                    1                   0  \n",
       "8                    1                   0  \n",
       "9                    1                   0  \n",
       "10                   1                   0  \n",
       "11                   1                   0  \n",
       "12                   1                   0  \n",
       "13                   1                   0  \n",
       "14                   0                   0  \n",
       "15                   1                   0  \n",
       "16                   1                   0  \n",
       "17                   1                   0  \n",
       "18                   1                   0  \n",
       "19                   1                   0  \n",
       "\n",
       "[20 rows x 21 columns]"
      ]
     },
     "execution_count": 161,
     "metadata": {},
     "output_type": "execute_result"
    }
   ],
   "source": [
    "df['temp(K)'] = df['temp'] + 273.15\n",
    "\n",
    "# Verifica la transformación de los datos \n",
    "df.head(20)"
   ]
  },
  {
   "cell_type": "markdown",
   "metadata": {},
   "source": [
    "Se agregó una columna más para tener la temperatura en grados Kelvin. Adicionalmente se podría eliminar la columna `temp` con los datos en °C."
   ]
  },
  {
   "cell_type": "markdown",
   "metadata": {},
   "source": [
    "- Se elimina la columna `\"temp\"`, ya que se estandarizó y se agregó la columna `\"temp(K)\"`"
   ]
  },
  {
   "cell_type": "code",
   "execution_count": 162,
   "metadata": {},
   "outputs": [
    {
     "data": {
      "text/html": [
       "<div>\n",
       "<style scoped>\n",
       "    .dataframe tbody tr th:only-of-type {\n",
       "        vertical-align: middle;\n",
       "    }\n",
       "\n",
       "    .dataframe tbody tr th {\n",
       "        vertical-align: top;\n",
       "    }\n",
       "\n",
       "    .dataframe thead th {\n",
       "        text-align: right;\n",
       "    }\n",
       "</style>\n",
       "<table border=\"1\" class=\"dataframe\">\n",
       "  <thead>\n",
       "    <tr style=\"text-align: right;\">\n",
       "      <th></th>\n",
       "      <th>id</th>\n",
       "      <th>timestamp</th>\n",
       "      <th>pmv</th>\n",
       "      <th>ppd</th>\n",
       "      <th>co2</th>\n",
       "      <th>pm25</th>\n",
       "      <th>pm10</th>\n",
       "      <th>temp</th>\n",
       "      <th>hr</th>\n",
       "      <th>voc</th>\n",
       "      <th>...</th>\n",
       "      <th>no2</th>\n",
       "      <th>c2h5ch</th>\n",
       "      <th>idnodo</th>\n",
       "      <th>temp(K)</th>\n",
       "      <th>pm25-clasificacion</th>\n",
       "      <th>disconformidad-19%</th>\n",
       "      <th>disconformidad-20%</th>\n",
       "      <th>20.8</th>\n",
       "      <th>disconformidad-21%</th>\n",
       "      <th>disconformidad-22%</th>\n",
       "    </tr>\n",
       "  </thead>\n",
       "  <tbody>\n",
       "    <tr>\n",
       "      <th>0</th>\n",
       "      <td>3909814</td>\n",
       "      <td>2022-04-28 15:40:00</td>\n",
       "      <td>0.88</td>\n",
       "      <td>21.0</td>\n",
       "      <td>1.000000</td>\n",
       "      <td>0.0</td>\n",
       "      <td>-1.0</td>\n",
       "      <td>27.3</td>\n",
       "      <td>50.0</td>\n",
       "      <td>0.906977</td>\n",
       "      <td>...</td>\n",
       "      <td>0.533981</td>\n",
       "      <td>0.990385</td>\n",
       "      <td>fdba37</td>\n",
       "      <td>300.45</td>\n",
       "      <td>Bajo</td>\n",
       "      <td>0</td>\n",
       "      <td>0</td>\n",
       "      <td>0</td>\n",
       "      <td>1</td>\n",
       "      <td>0</td>\n",
       "    </tr>\n",
       "    <tr>\n",
       "      <th>1</th>\n",
       "      <td>3909794</td>\n",
       "      <td>2022-04-28 15:38:00</td>\n",
       "      <td>0.88</td>\n",
       "      <td>21.0</td>\n",
       "      <td>1.000000</td>\n",
       "      <td>0.0</td>\n",
       "      <td>6.9</td>\n",
       "      <td>27.3</td>\n",
       "      <td>49.0</td>\n",
       "      <td>0.930233</td>\n",
       "      <td>...</td>\n",
       "      <td>0.553398</td>\n",
       "      <td>1.000000</td>\n",
       "      <td>fdba37</td>\n",
       "      <td>300.45</td>\n",
       "      <td>Bajo</td>\n",
       "      <td>0</td>\n",
       "      <td>0</td>\n",
       "      <td>0</td>\n",
       "      <td>1</td>\n",
       "      <td>0</td>\n",
       "    </tr>\n",
       "    <tr>\n",
       "      <th>2</th>\n",
       "      <td>3909774</td>\n",
       "      <td>2022-04-28 15:37:00</td>\n",
       "      <td>0.88</td>\n",
       "      <td>21.0</td>\n",
       "      <td>1.000000</td>\n",
       "      <td>3.4</td>\n",
       "      <td>4.3</td>\n",
       "      <td>27.3</td>\n",
       "      <td>49.6</td>\n",
       "      <td>0.930233</td>\n",
       "      <td>...</td>\n",
       "      <td>0.543689</td>\n",
       "      <td>1.000000</td>\n",
       "      <td>fdba37</td>\n",
       "      <td>300.45</td>\n",
       "      <td>Mediano</td>\n",
       "      <td>0</td>\n",
       "      <td>0</td>\n",
       "      <td>0</td>\n",
       "      <td>1</td>\n",
       "      <td>0</td>\n",
       "    </tr>\n",
       "    <tr>\n",
       "      <th>3</th>\n",
       "      <td>3909754</td>\n",
       "      <td>2022-04-28 15:36:00</td>\n",
       "      <td>0.88</td>\n",
       "      <td>21.0</td>\n",
       "      <td>0.982627</td>\n",
       "      <td>2.4</td>\n",
       "      <td>3.0</td>\n",
       "      <td>27.6</td>\n",
       "      <td>49.6</td>\n",
       "      <td>0.930233</td>\n",
       "      <td>...</td>\n",
       "      <td>0.533981</td>\n",
       "      <td>1.000000</td>\n",
       "      <td>fdba37</td>\n",
       "      <td>300.75</td>\n",
       "      <td>Bajo</td>\n",
       "      <td>0</td>\n",
       "      <td>0</td>\n",
       "      <td>0</td>\n",
       "      <td>1</td>\n",
       "      <td>0</td>\n",
       "    </tr>\n",
       "    <tr>\n",
       "      <th>4</th>\n",
       "      <td>3909734</td>\n",
       "      <td>2022-04-28 15:35:00</td>\n",
       "      <td>0.87</td>\n",
       "      <td>20.8</td>\n",
       "      <td>1.000000</td>\n",
       "      <td>2.6</td>\n",
       "      <td>3.7</td>\n",
       "      <td>27.3</td>\n",
       "      <td>49.4</td>\n",
       "      <td>0.930233</td>\n",
       "      <td>...</td>\n",
       "      <td>0.543689</td>\n",
       "      <td>1.000000</td>\n",
       "      <td>fdba37</td>\n",
       "      <td>300.45</td>\n",
       "      <td>Bajo</td>\n",
       "      <td>0</td>\n",
       "      <td>0</td>\n",
       "      <td>1</td>\n",
       "      <td>0</td>\n",
       "      <td>0</td>\n",
       "    </tr>\n",
       "  </tbody>\n",
       "</table>\n",
       "<p>5 rows × 21 columns</p>\n",
       "</div>"
      ],
      "text/plain": [
       "        id            timestamp   pmv   ppd       co2  pm25  pm10  temp    hr  \\\n",
       "0  3909814  2022-04-28 15:40:00  0.88  21.0  1.000000   0.0  -1.0  27.3  50.0   \n",
       "1  3909794  2022-04-28 15:38:00  0.88  21.0  1.000000   0.0   6.9  27.3  49.0   \n",
       "2  3909774  2022-04-28 15:37:00  0.88  21.0  1.000000   3.4   4.3  27.3  49.6   \n",
       "3  3909754  2022-04-28 15:36:00  0.88  21.0  0.982627   2.4   3.0  27.6  49.6   \n",
       "4  3909734  2022-04-28 15:35:00  0.87  20.8  1.000000   2.6   3.7  27.3  49.4   \n",
       "\n",
       "        voc  ...       no2    c2h5ch  idnodo temp(K)  pm25-clasificacion  \\\n",
       "0  0.906977  ...  0.533981  0.990385  fdba37  300.45                Bajo   \n",
       "1  0.930233  ...  0.553398  1.000000  fdba37  300.45                Bajo   \n",
       "2  0.930233  ...  0.543689  1.000000  fdba37  300.45             Mediano   \n",
       "3  0.930233  ...  0.533981  1.000000  fdba37  300.75                Bajo   \n",
       "4  0.930233  ...  0.543689  1.000000  fdba37  300.45                Bajo   \n",
       "\n",
       "  disconformidad-19%  disconformidad-20%  20.8  disconformidad-21%  \\\n",
       "0                  0                   0     0                   1   \n",
       "1                  0                   0     0                   1   \n",
       "2                  0                   0     0                   1   \n",
       "3                  0                   0     0                   1   \n",
       "4                  0                   0     1                   0   \n",
       "\n",
       "   disconformidad-22%  \n",
       "0                   0  \n",
       "1                   0  \n",
       "2                   0  \n",
       "3                   0  \n",
       "4                   0  \n",
       "\n",
       "[5 rows x 21 columns]"
      ]
     },
     "execution_count": 162,
     "metadata": {},
     "output_type": "execute_result"
    }
   ],
   "source": [
    "#df.drop('temp', axis = 1, inplace=True)\n",
    "df.head()"
   ]
  },
  {
   "cell_type": "markdown",
   "metadata": {},
   "source": [
    "## Normalizar los datos de entrada\n",
    "A continuación se muestra el proceso para realizar 3 tipos de normalización al set de datos; Normalización Media y Normalización Min-Max."
   ]
  },
  {
   "cell_type": "markdown",
   "metadata": {
    "tags": []
   },
   "source": [
    "### Normalización Max\n",
    "Utilizaremos la normalización para transformar los valores de varias variables del DataFrame a un rango similar. Esta normalización que aplicaremos se hace dividiendo por el max() para todos los elementos del Dataframe."
   ]
  },
  {
   "cell_type": "code",
   "execution_count": 129,
   "metadata": {
    "tags": []
   },
   "outputs": [],
   "source": [
    "#Definimos una función que realiza la normalización, recibe como parametro de entrada el DataFrame a normalizar.\n",
    "def funNorm(df_input):\n",
    "    return df_input.apply(lambda x: (x)/ x.max(), axis=0)\n",
    "\n",
    "df_norm = funNorm(df[[\"co2\",\"voc\",\"co\",\"no2\",\"c2h5ch\"]])"
   ]
  },
  {
   "cell_type": "markdown",
   "metadata": {},
   "source": [
    "Comprobamos el resultado de la normalización realizada graficando los valores de la columna `no2` antes y despues de la normalización."
   ]
  },
  {
   "cell_type": "code",
   "execution_count": 130,
   "metadata": {},
   "outputs": [
    {
     "data": {
      "text/plain": [
       "<AxesSubplot:title={'center':'NO2 sin normalizar'}>"
      ]
     },
     "execution_count": 130,
     "metadata": {},
     "output_type": "execute_result"
    },
    {
     "data": {
      "image/png": "[encoded data removed]",
      "text/plain": [
       "<Figure size 432x288 with 1 Axes>"
      ]
     },
     "metadata": {
      "needs_background": "light"
     },
     "output_type": "display_data"
    }
   ],
   "source": [
    "%matplotlib inline\n",
    "df['no2'].plot(title='NO2 sin normalizar',kind='bar')"
   ]
  },
  {
   "cell_type": "code",
   "execution_count": 131,
   "metadata": {},
   "outputs": [
    {
     "data": {
      "text/plain": [
       "<AxesSubplot:title={'center':'NO2 con normalización max'}>"
      ]
     },
     "execution_count": 131,
     "metadata": {},
     "output_type": "execute_result"
    },
    {
     "data": {
      "image/png": "[encoded data removed]",
      "text/plain": [
       "<Figure size 432x288 with 1 Axes>"
      ]
     },
     "metadata": {
      "needs_background": "light"
     },
     "output_type": "display_data"
    }
   ],
   "source": [
    "df_norm['no2'].plot(title='NO2 con normalización max',kind='bar')"
   ]
  },
  {
   "cell_type": "markdown",
   "metadata": {
    "tags": []
   },
   "source": [
    "### Normalización Media\n",
    "Utilizaremos la normalización media que es una de las formas más fáciles de normalizar los Dataframes de rangos variados. Esta normalización se hace restando la media y dividiendo por la desviación estándar para todos los elementos del Dataframe."
   ]
  },
  {
   "cell_type": "code",
   "execution_count": 132,
   "metadata": {
    "tags": []
   },
   "outputs": [],
   "source": [
    "#Definimos una función que realiza la normalización media, recibe como parametro de entrada el DataFrame a normalizar.\n",
    "def funNormMed(df_input):\n",
    "    return df_input.apply(lambda x: (x-x.mean())/ x.std(), axis=0)\n",
    "\n",
    "df_normMed = funNormMed(df[[\"co2\",\"voc\",\"co\",\"no2\",\"c2h5ch\"]])"
   ]
  },
  {
   "cell_type": "markdown",
   "metadata": {},
   "source": [
    "Comprobamos el resultado de la normalización realizada graficando los valores de la columna `no2` antes y despues de la normalización."
   ]
  },
  {
   "cell_type": "code",
   "execution_count": 133,
   "metadata": {},
   "outputs": [
    {
     "data": {
      "text/plain": [
       "<AxesSubplot:title={'center':'NO2 sin normalizar'}>"
      ]
     },
     "execution_count": 133,
     "metadata": {},
     "output_type": "execute_result"
    },
    {
     "data": {
      "image/png": "[encoded data removed]",
      "text/plain": [
       "<Figure size 432x288 with 1 Axes>"
      ]
     },
     "metadata": {
      "needs_background": "light"
     },
     "output_type": "display_data"
    }
   ],
   "source": [
    "%matplotlib inline\n",
    "df['no2'].plot(title='NO2 sin normalizar',kind='bar')"
   ]
  },
  {
   "cell_type": "code",
   "execution_count": 134,
   "metadata": {},
   "outputs": [
    {
     "data": {
      "text/plain": [
       "<AxesSubplot:title={'center':'NO2 con normalización media'}>"
      ]
     },
     "execution_count": 134,
     "metadata": {},
     "output_type": "execute_result"
    },
    {
     "data": {
      "image/png": "[encoded data removed]",
      "text/plain": [
       "<Figure size 432x288 with 1 Axes>"
      ]
     },
     "metadata": {
      "needs_background": "light"
     },
     "output_type": "display_data"
    }
   ],
   "source": [
    "df_normMed['no2'].plot(title='NO2 con normalización media',kind='bar')"
   ]
  },
  {
   "cell_type": "markdown",
   "metadata": {},
   "source": [
    "### Normalización Min-Max\n",
    "Por otro lado tenemos la Normalización Min-Max que es uno de los métodos ampliamente utilizados para la normalización. El resultado de esta normalización resta el valor mínimo de Dataframe y lo divide por la diferencia entre el valor más alto y el más bajo de la columna correspondiente."
   ]
  },
  {
   "cell_type": "code",
   "execution_count": 135,
   "metadata": {
    "tags": []
   },
   "outputs": [],
   "source": [
    "#Definimos una función que realiza la normalización min-max, recibe como parametro de entrada el DataFrame a normalizar.\n",
    "def funNormMinMax(df_input):\n",
    "    return (df_input - df_input.min()) / ( df_input.max() - df_input.min())\n",
    "\n",
    "df_normMinMax = funNormMinMax(df[[\"co2\",\"voc\",\"co\",\"no2\",\"c2h5ch\"]])"
   ]
  },
  {
   "cell_type": "markdown",
   "metadata": {},
   "source": [
    "Comprobamos el resultado de la normalización realizada graficando los valores de la columna `no2` antes y despues de la normalización."
   ]
  },
  {
   "cell_type": "code",
   "execution_count": 136,
   "metadata": {},
   "outputs": [
    {
     "data": {
      "text/plain": [
       "<AxesSubplot:title={'center':'NO2 sin normalizar'}>"
      ]
     },
     "execution_count": 136,
     "metadata": {},
     "output_type": "execute_result"
    },
    {
     "data": {
      "image/png": "[encoded data removed]",
      "text/plain": [
       "<Figure size 432x288 with 1 Axes>"
      ]
     },
     "metadata": {
      "needs_background": "light"
     },
     "output_type": "display_data"
    }
   ],
   "source": [
    "df['no2'].plot(title='NO2 sin normalizar',kind='bar')"
   ]
  },
  {
   "cell_type": "code",
   "execution_count": 137,
   "metadata": {},
   "outputs": [
    {
     "data": {
      "text/plain": [
       "<AxesSubplot:title={'center':'NO2 con normalización min-max'}>"
      ]
     },
     "execution_count": 137,
     "metadata": {},
     "output_type": "execute_result"
    },
    {
     "data": {
      "image/png": "[encoded data removed]",
      "text/plain": [
       "<Figure size 432x288 with 1 Axes>"
      ]
     },
     "metadata": {
      "needs_background": "light"
     },
     "output_type": "display_data"
    }
   ],
   "source": [
    "df_normMinMax['no2'].plot(title='NO2 con normalización min-max',kind='bar')"
   ]
  },
  {
   "cell_type": "markdown",
   "metadata": {},
   "source": [
    "### Normalizar Datos\n",
    "Por ultimo aplicaremos la normalización a las variables `\"co2\" \"voc\" \"co\" \"no2\" \"c2h5ch\"` para transformar sus valores a un rango similar entre ellas y además todas estas variables están en la misma unidad de medida `\"ppm\"`.\n",
    "\n",
    "En este caso se eligió utilizar el primer método de normalización ya que al ver los resultados de la prueba que se hizo para cada uno de ellos, pudimos ver que el gráfico generado tras aplicar este método es el que presenta más similitud con el gráfico de la variable original."
   ]
  },
  {
   "cell_type": "code",
   "execution_count": 138,
   "metadata": {},
   "outputs": [
    {
     "data": {
      "text/html": [
       "<div>\n",
       "<style scoped>\n",
       "    .dataframe tbody tr th:only-of-type {\n",
       "        vertical-align: middle;\n",
       "    }\n",
       "\n",
       "    .dataframe tbody tr th {\n",
       "        vertical-align: top;\n",
       "    }\n",
       "\n",
       "    .dataframe thead th {\n",
       "        text-align: right;\n",
       "    }\n",
       "</style>\n",
       "<table border=\"1\" class=\"dataframe\">\n",
       "  <thead>\n",
       "    <tr style=\"text-align: right;\">\n",
       "      <th></th>\n",
       "      <th>id</th>\n",
       "      <th>timestamp</th>\n",
       "      <th>pmv</th>\n",
       "      <th>ppd</th>\n",
       "      <th>co2</th>\n",
       "      <th>pm25</th>\n",
       "      <th>pm10</th>\n",
       "      <th>temp</th>\n",
       "      <th>hr</th>\n",
       "      <th>voc</th>\n",
       "      <th>co</th>\n",
       "      <th>no2</th>\n",
       "      <th>c2h5ch</th>\n",
       "      <th>idnodo</th>\n",
       "      <th>temp(K)</th>\n",
       "    </tr>\n",
       "  </thead>\n",
       "  <tbody>\n",
       "    <tr>\n",
       "      <th>0</th>\n",
       "      <td>3909814</td>\n",
       "      <td>2022-04-28 15:40:00</td>\n",
       "      <td>0.88</td>\n",
       "      <td>21.0</td>\n",
       "      <td>1.000000</td>\n",
       "      <td>0.0</td>\n",
       "      <td>-1.0</td>\n",
       "      <td>27.3</td>\n",
       "      <td>50.0</td>\n",
       "      <td>0.906977</td>\n",
       "      <td>0.027368</td>\n",
       "      <td>0.533981</td>\n",
       "      <td>0.990385</td>\n",
       "      <td>fdba37</td>\n",
       "      <td>300.45</td>\n",
       "    </tr>\n",
       "    <tr>\n",
       "      <th>1</th>\n",
       "      <td>3909794</td>\n",
       "      <td>2022-04-28 15:38:00</td>\n",
       "      <td>0.88</td>\n",
       "      <td>21.0</td>\n",
       "      <td>1.000000</td>\n",
       "      <td>0.0</td>\n",
       "      <td>6.9</td>\n",
       "      <td>27.3</td>\n",
       "      <td>49.0</td>\n",
       "      <td>0.930233</td>\n",
       "      <td>0.028421</td>\n",
       "      <td>0.553398</td>\n",
       "      <td>1.000000</td>\n",
       "      <td>fdba37</td>\n",
       "      <td>300.45</td>\n",
       "    </tr>\n",
       "    <tr>\n",
       "      <th>2</th>\n",
       "      <td>3909774</td>\n",
       "      <td>2022-04-28 15:37:00</td>\n",
       "      <td>0.88</td>\n",
       "      <td>21.0</td>\n",
       "      <td>1.000000</td>\n",
       "      <td>3.4</td>\n",
       "      <td>4.3</td>\n",
       "      <td>27.3</td>\n",
       "      <td>49.6</td>\n",
       "      <td>0.930233</td>\n",
       "      <td>0.027544</td>\n",
       "      <td>0.543689</td>\n",
       "      <td>1.000000</td>\n",
       "      <td>fdba37</td>\n",
       "      <td>300.45</td>\n",
       "    </tr>\n",
       "    <tr>\n",
       "      <th>3</th>\n",
       "      <td>3909754</td>\n",
       "      <td>2022-04-28 15:36:00</td>\n",
       "      <td>0.88</td>\n",
       "      <td>21.0</td>\n",
       "      <td>0.982627</td>\n",
       "      <td>2.4</td>\n",
       "      <td>3.0</td>\n",
       "      <td>27.6</td>\n",
       "      <td>49.6</td>\n",
       "      <td>0.930233</td>\n",
       "      <td>0.027544</td>\n",
       "      <td>0.533981</td>\n",
       "      <td>1.000000</td>\n",
       "      <td>fdba37</td>\n",
       "      <td>300.75</td>\n",
       "    </tr>\n",
       "    <tr>\n",
       "      <th>4</th>\n",
       "      <td>3909734</td>\n",
       "      <td>2022-04-28 15:35:00</td>\n",
       "      <td>0.87</td>\n",
       "      <td>20.8</td>\n",
       "      <td>1.000000</td>\n",
       "      <td>2.6</td>\n",
       "      <td>3.7</td>\n",
       "      <td>27.3</td>\n",
       "      <td>49.4</td>\n",
       "      <td>0.930233</td>\n",
       "      <td>0.027368</td>\n",
       "      <td>0.543689</td>\n",
       "      <td>1.000000</td>\n",
       "      <td>fdba37</td>\n",
       "      <td>300.45</td>\n",
       "    </tr>\n",
       "  </tbody>\n",
       "</table>\n",
       "</div>"
      ],
      "text/plain": [
       "        id            timestamp   pmv   ppd       co2  pm25  pm10  temp    hr  \\\n",
       "0  3909814  2022-04-28 15:40:00  0.88  21.0  1.000000   0.0  -1.0  27.3  50.0   \n",
       "1  3909794  2022-04-28 15:38:00  0.88  21.0  1.000000   0.0   6.9  27.3  49.0   \n",
       "2  3909774  2022-04-28 15:37:00  0.88  21.0  1.000000   3.4   4.3  27.3  49.6   \n",
       "3  3909754  2022-04-28 15:36:00  0.88  21.0  0.982627   2.4   3.0  27.6  49.6   \n",
       "4  3909734  2022-04-28 15:35:00  0.87  20.8  1.000000   2.6   3.7  27.3  49.4   \n",
       "\n",
       "        voc        co       no2    c2h5ch  idnodo  temp(K)  \n",
       "0  0.906977  0.027368  0.533981  0.990385  fdba37   300.45  \n",
       "1  0.930233  0.028421  0.553398  1.000000  fdba37   300.45  \n",
       "2  0.930233  0.027544  0.543689  1.000000  fdba37   300.45  \n",
       "3  0.930233  0.027544  0.533981  1.000000  fdba37   300.75  \n",
       "4  0.930233  0.027368  0.543689  1.000000  fdba37   300.45  "
      ]
     },
     "execution_count": 138,
     "metadata": {},
     "output_type": "execute_result"
    }
   ],
   "source": [
    "df[[\"co2\",\"voc\",\"co\",\"no2\",\"c2h5ch\"]] = funNorm(df[[\"co2\",\"voc\",\"co\",\"no2\",\"c2h5ch\"]])\n",
    "df.head()"
   ]
  },
  {
   "cell_type": "markdown",
   "metadata": {
    "tags": []
   },
   "source": [
    "## Agrupar datos\n",
    "Podemos transformar variables númericas continuas a intervalos discretos para dar la posibilidad de realizar un análisis de grupo con estas variables."
   ]
  },
  {
   "cell_type": "markdown",
   "metadata": {},
   "source": [
    "En este caso agruparemos la variable `pm25` y el primer paso es graficar un histograma de esta variable para ver como se distribuyen sus valores y así ver en qué intervalos la podemos agrupar."
   ]
  },
  {
   "cell_type": "code",
   "execution_count": 139,
   "metadata": {},
   "outputs": [
    {
     "data": {
      "text/plain": [
       "Text(0.5, 1.0, 'Material Particulado Fino (μg/m³)')"
      ]
     },
     "execution_count": 139,
     "metadata": {},
     "output_type": "execute_result"
    },
    {
     "data": {
      "image/png": "[encoded data removed]",
      "text/plain": [
       "<Figure size 432x288 with 1 Axes>"
      ]
     },
     "metadata": {
      "needs_background": "light"
     },
     "output_type": "display_data"
    }
   ],
   "source": [
    "%matplotlib inline\n",
    "import matplotlib as plt\n",
    "#from matplotlib import pyplot\n",
    "\n",
    "plt.pyplot.hist(df[\"pm25\"])\n",
    "\n",
    "# setear las etiquetas para los ejes x e y más un título\n",
    "plt.pyplot.xlabel(\"Material Particulado Fino\")\n",
    "plt.pyplot.ylabel(\"Cantidad\")\n",
    "plt.pyplot.title(\"Material Particulado Fino (μg/m³)\")"
   ]
  },
  {
   "cell_type": "markdown",
   "metadata": {},
   "source": [
    "Luego se define el valor máximo y mínimo utilizando las divisiones anteriormente calculadas "
   ]
  },
  {
   "cell_type": "code",
   "execution_count": 140,
   "metadata": {},
   "outputs": [
    {
     "data": {
      "text/plain": [
       "array([ 0.        ,  3.36666667,  6.73333333, 10.1       ])"
      ]
     },
     "execution_count": 140,
     "metadata": {},
     "output_type": "execute_result"
    }
   ],
   "source": [
    "contenedores = np.linspace(min(df[\"pm25\"]), max(df[\"pm25\"]), 4)\n",
    "contenedores"
   ]
  },
  {
   "cell_type": "markdown",
   "metadata": {},
   "source": [
    "Creamos la lista `nombres_de_grupos` donde debemos definir los grupos que vamos a utilizar:\n"
   ]
  },
  {
   "cell_type": "code",
   "execution_count": 141,
   "metadata": {},
   "outputs": [],
   "source": [
    "nombres_de_grupo = ['Bajo', 'Mediano', 'Alto']"
   ]
  },
  {
   "cell_type": "markdown",
   "metadata": {},
   "source": [
    "Aplicamos la función `cut` que sirve para separar los elementos de una matriz en diferentes contenedores y así definir qué valores de `df['pm25']` pertenecen a cada grupo.\n"
   ]
  },
  {
   "cell_type": "code",
   "execution_count": 142,
   "metadata": {},
   "outputs": [
    {
     "data": {
      "text/html": [
       "<div>\n",
       "<style scoped>\n",
       "    .dataframe tbody tr th:only-of-type {\n",
       "        vertical-align: middle;\n",
       "    }\n",
       "\n",
       "    .dataframe tbody tr th {\n",
       "        vertical-align: top;\n",
       "    }\n",
       "\n",
       "    .dataframe thead th {\n",
       "        text-align: right;\n",
       "    }\n",
       "</style>\n",
       "<table border=\"1\" class=\"dataframe\">\n",
       "  <thead>\n",
       "    <tr style=\"text-align: right;\">\n",
       "      <th></th>\n",
       "      <th>pm25</th>\n",
       "      <th>pm25-clasificacion</th>\n",
       "    </tr>\n",
       "  </thead>\n",
       "  <tbody>\n",
       "    <tr>\n",
       "      <th>0</th>\n",
       "      <td>0.0</td>\n",
       "      <td>Bajo</td>\n",
       "    </tr>\n",
       "    <tr>\n",
       "      <th>1</th>\n",
       "      <td>0.0</td>\n",
       "      <td>Bajo</td>\n",
       "    </tr>\n",
       "    <tr>\n",
       "      <th>2</th>\n",
       "      <td>3.4</td>\n",
       "      <td>Mediano</td>\n",
       "    </tr>\n",
       "    <tr>\n",
       "      <th>3</th>\n",
       "      <td>2.4</td>\n",
       "      <td>Bajo</td>\n",
       "    </tr>\n",
       "    <tr>\n",
       "      <th>4</th>\n",
       "      <td>2.6</td>\n",
       "      <td>Bajo</td>\n",
       "    </tr>\n",
       "    <tr>\n",
       "      <th>5</th>\n",
       "      <td>3.4</td>\n",
       "      <td>Mediano</td>\n",
       "    </tr>\n",
       "    <tr>\n",
       "      <th>6</th>\n",
       "      <td>2.7</td>\n",
       "      <td>Bajo</td>\n",
       "    </tr>\n",
       "    <tr>\n",
       "      <th>7</th>\n",
       "      <td>0.0</td>\n",
       "      <td>Bajo</td>\n",
       "    </tr>\n",
       "    <tr>\n",
       "      <th>8</th>\n",
       "      <td>3.4</td>\n",
       "      <td>Mediano</td>\n",
       "    </tr>\n",
       "    <tr>\n",
       "      <th>9</th>\n",
       "      <td>2.9</td>\n",
       "      <td>Bajo</td>\n",
       "    </tr>\n",
       "    <tr>\n",
       "      <th>10</th>\n",
       "      <td>3.4</td>\n",
       "      <td>Mediano</td>\n",
       "    </tr>\n",
       "    <tr>\n",
       "      <th>11</th>\n",
       "      <td>3.2</td>\n",
       "      <td>Bajo</td>\n",
       "    </tr>\n",
       "    <tr>\n",
       "      <th>12</th>\n",
       "      <td>3.9</td>\n",
       "      <td>Mediano</td>\n",
       "    </tr>\n",
       "    <tr>\n",
       "      <th>13</th>\n",
       "      <td>3.8</td>\n",
       "      <td>Mediano</td>\n",
       "    </tr>\n",
       "    <tr>\n",
       "      <th>14</th>\n",
       "      <td>3.9</td>\n",
       "      <td>Mediano</td>\n",
       "    </tr>\n",
       "    <tr>\n",
       "      <th>15</th>\n",
       "      <td>3.4</td>\n",
       "      <td>Mediano</td>\n",
       "    </tr>\n",
       "    <tr>\n",
       "      <th>16</th>\n",
       "      <td>3.4</td>\n",
       "      <td>Mediano</td>\n",
       "    </tr>\n",
       "    <tr>\n",
       "      <th>17</th>\n",
       "      <td>3.9</td>\n",
       "      <td>Mediano</td>\n",
       "    </tr>\n",
       "    <tr>\n",
       "      <th>18</th>\n",
       "      <td>3.5</td>\n",
       "      <td>Mediano</td>\n",
       "    </tr>\n",
       "    <tr>\n",
       "      <th>19</th>\n",
       "      <td>3.4</td>\n",
       "      <td>Mediano</td>\n",
       "    </tr>\n",
       "  </tbody>\n",
       "</table>\n",
       "</div>"
      ],
      "text/plain": [
       "    pm25 pm25-clasificacion\n",
       "0    0.0               Bajo\n",
       "1    0.0               Bajo\n",
       "2    3.4            Mediano\n",
       "3    2.4               Bajo\n",
       "4    2.6               Bajo\n",
       "5    3.4            Mediano\n",
       "6    2.7               Bajo\n",
       "7    0.0               Bajo\n",
       "8    3.4            Mediano\n",
       "9    2.9               Bajo\n",
       "10   3.4            Mediano\n",
       "11   3.2               Bajo\n",
       "12   3.9            Mediano\n",
       "13   3.8            Mediano\n",
       "14   3.9            Mediano\n",
       "15   3.4            Mediano\n",
       "16   3.4            Mediano\n",
       "17   3.9            Mediano\n",
       "18   3.5            Mediano\n",
       "19   3.4            Mediano"
      ]
     },
     "execution_count": 142,
     "metadata": {},
     "output_type": "execute_result"
    }
   ],
   "source": [
    "df['pm25-clasificacion'] = pd.cut(df['pm25'], contenedores, labels=nombres_de_grupo, include_lowest=True )\n",
    "df[['pm25','pm25-clasificacion']].head(20)"
   ]
  },
  {
   "cell_type": "markdown",
   "metadata": {},
   "source": [
    "Para ver el número de `pm25` que hay en cada grupo se utiliza el método `.values_counts()`.\n"
   ]
  },
  {
   "cell_type": "code",
   "execution_count": 143,
   "metadata": {},
   "outputs": [
    {
     "data": {
      "text/plain": [
       "Mediano    41\n",
       "Bajo       18\n",
       "Alto        1\n",
       "Name: pm25-clasificacion, dtype: int64"
      ]
     },
     "execution_count": 143,
     "metadata": {},
     "output_type": "execute_result"
    }
   ],
   "source": [
    "df[\"pm25-clasificacion\"].value_counts()"
   ]
  },
  {
   "cell_type": "markdown",
   "metadata": {},
   "source": [
    "Graficamos la distribución de cada grupo."
   ]
  },
  {
   "cell_type": "code",
   "execution_count": 144,
   "metadata": {},
   "outputs": [
    {
     "data": {
      "text/plain": [
       "Text(0.5, 1.0, 'Contenedores pm25')"
      ]
     },
     "execution_count": 144,
     "metadata": {},
     "output_type": "execute_result"
    },
    {
     "data": {
      "image/png": "[encoded data removed]",
      "text/plain": [
       "<Figure size 432x288 with 1 Axes>"
      ]
     },
     "metadata": {
      "needs_background": "light"
     },
     "output_type": "display_data"
    }
   ],
   "source": [
    "plt.pyplot.bar(nombres_de_grupo, df[\"pm25-clasificacion\"].value_counts())\n",
    "\n",
    "# setear las etiquetas para los ejes x e y más un título\n",
    "plt.pyplot.xlabel(\"pm25\")\n",
    "plt.pyplot.ylabel(\"cantidad\")\n",
    "plt.pyplot.title(\"Contenedores pm25\")"
   ]
  },
  {
   "cell_type": "markdown",
   "metadata": {},
   "source": [
    "## Generar variables indicadoras\n",
    "Apartir de la columna `ppd` (Porcentaje de Personas Insatisfechas) generaremos variables indicadoras ya que solo hay 4 valores que se repiten para este atributo.\n",
    "\n",
    "Primero rescatamos un DataFrame a partir del atributo `ppd` con los 4 valores que se repiten."
   ]
  },
  {
   "cell_type": "code",
   "execution_count": 145,
   "metadata": {},
   "outputs": [],
   "source": [
    "variable_dummy_1 = pd.get_dummies(df[\"ppd\"])"
   ]
  },
  {
   "cell_type": "markdown",
   "metadata": {},
   "source": [
    "Para una mejor comprensión cambiamos el nombre de las columnas generadas y visualizamos."
   ]
  },
  {
   "cell_type": "code",
   "execution_count": 146,
   "metadata": {},
   "outputs": [
    {
     "data": {
      "text/html": [
       "<div>\n",
       "<style scoped>\n",
       "    .dataframe tbody tr th:only-of-type {\n",
       "        vertical-align: middle;\n",
       "    }\n",
       "\n",
       "    .dataframe tbody tr th {\n",
       "        vertical-align: top;\n",
       "    }\n",
       "\n",
       "    .dataframe thead th {\n",
       "        text-align: right;\n",
       "    }\n",
       "</style>\n",
       "<table border=\"1\" class=\"dataframe\">\n",
       "  <thead>\n",
       "    <tr style=\"text-align: right;\">\n",
       "      <th></th>\n",
       "      <th>disconformidad-19%</th>\n",
       "      <th>disconformidad-20%</th>\n",
       "      <th>20.8</th>\n",
       "      <th>disconformidad-21%</th>\n",
       "      <th>disconformidad-22%</th>\n",
       "    </tr>\n",
       "  </thead>\n",
       "  <tbody>\n",
       "    <tr>\n",
       "      <th>0</th>\n",
       "      <td>0</td>\n",
       "      <td>0</td>\n",
       "      <td>0</td>\n",
       "      <td>1</td>\n",
       "      <td>0</td>\n",
       "    </tr>\n",
       "    <tr>\n",
       "      <th>1</th>\n",
       "      <td>0</td>\n",
       "      <td>0</td>\n",
       "      <td>0</td>\n",
       "      <td>1</td>\n",
       "      <td>0</td>\n",
       "    </tr>\n",
       "    <tr>\n",
       "      <th>2</th>\n",
       "      <td>0</td>\n",
       "      <td>0</td>\n",
       "      <td>0</td>\n",
       "      <td>1</td>\n",
       "      <td>0</td>\n",
       "    </tr>\n",
       "    <tr>\n",
       "      <th>3</th>\n",
       "      <td>0</td>\n",
       "      <td>0</td>\n",
       "      <td>0</td>\n",
       "      <td>1</td>\n",
       "      <td>0</td>\n",
       "    </tr>\n",
       "    <tr>\n",
       "      <th>4</th>\n",
       "      <td>0</td>\n",
       "      <td>0</td>\n",
       "      <td>1</td>\n",
       "      <td>0</td>\n",
       "      <td>0</td>\n",
       "    </tr>\n",
       "  </tbody>\n",
       "</table>\n",
       "</div>"
      ],
      "text/plain": [
       "   disconformidad-19%  disconformidad-20%  20.8  disconformidad-21%  \\\n",
       "0                   0                   0     0                   1   \n",
       "1                   0                   0     0                   1   \n",
       "2                   0                   0     0                   1   \n",
       "3                   0                   0     0                   1   \n",
       "4                   0                   0     1                   0   \n",
       "\n",
       "   disconformidad-22%  \n",
       "0                   0  \n",
       "1                   0  \n",
       "2                   0  \n",
       "3                   0  \n",
       "4                   0  "
      ]
     },
     "execution_count": 146,
     "metadata": {},
     "output_type": "execute_result"
    }
   ],
   "source": [
    "variable_dummy_1.rename(columns={19.0:'disconformidad-19%', 20.0:'disconformidad-20%', 21.0:'disconformidad-21%', 22.0:'disconformidad-22%'}, inplace=True)\n",
    "variable_dummy_1.head()"
   ]
  },
  {
   "cell_type": "markdown",
   "metadata": {},
   "source": [
    "Concatenamos al final del DataFrame original estas nuevas columnas  on 0s y 1s dependiendo a cual porcentaje de personas satisfechas corresponde cada fila."
   ]
  },
  {
   "cell_type": "code",
   "execution_count": 147,
   "metadata": {},
   "outputs": [],
   "source": [
    "df = pd.concat([df, variable_dummy_1], axis=1)"
   ]
  },
  {
   "cell_type": "markdown",
   "metadata": {},
   "source": [
    "En caso de querer eliminar la columna desde donde sacamos nuestras variables indicadoras ocupamos la función `.drop()` indicandole la columna que queremos eliminar.\n",
    "\n",
    "Al visualizar como quedó nuestro DataFrame podemos ver como las últimas columnas ahora contienen a las variables indicadoras que representan los posibles porcentajes de personas insatisfechas."
   ]
  },
  {
   "cell_type": "code",
   "execution_count": 148,
   "metadata": {},
   "outputs": [
    {
     "data": {
      "text/html": [
       "<div>\n",
       "<style scoped>\n",
       "    .dataframe tbody tr th:only-of-type {\n",
       "        vertical-align: middle;\n",
       "    }\n",
       "\n",
       "    .dataframe tbody tr th {\n",
       "        vertical-align: top;\n",
       "    }\n",
       "\n",
       "    .dataframe thead th {\n",
       "        text-align: right;\n",
       "    }\n",
       "</style>\n",
       "<table border=\"1\" class=\"dataframe\">\n",
       "  <thead>\n",
       "    <tr style=\"text-align: right;\">\n",
       "      <th></th>\n",
       "      <th>id</th>\n",
       "      <th>timestamp</th>\n",
       "      <th>pmv</th>\n",
       "      <th>ppd</th>\n",
       "      <th>co2</th>\n",
       "      <th>pm25</th>\n",
       "      <th>pm10</th>\n",
       "      <th>temp</th>\n",
       "      <th>hr</th>\n",
       "      <th>voc</th>\n",
       "      <th>...</th>\n",
       "      <th>no2</th>\n",
       "      <th>c2h5ch</th>\n",
       "      <th>idnodo</th>\n",
       "      <th>temp(K)</th>\n",
       "      <th>pm25-clasificacion</th>\n",
       "      <th>disconformidad-19%</th>\n",
       "      <th>disconformidad-20%</th>\n",
       "      <th>20.8</th>\n",
       "      <th>disconformidad-21%</th>\n",
       "      <th>disconformidad-22%</th>\n",
       "    </tr>\n",
       "  </thead>\n",
       "  <tbody>\n",
       "    <tr>\n",
       "      <th>0</th>\n",
       "      <td>3909814</td>\n",
       "      <td>2022-04-28 15:40:00</td>\n",
       "      <td>0.88</td>\n",
       "      <td>21.0</td>\n",
       "      <td>1.000000</td>\n",
       "      <td>0.0</td>\n",
       "      <td>-1.0</td>\n",
       "      <td>27.3</td>\n",
       "      <td>50.0</td>\n",
       "      <td>0.906977</td>\n",
       "      <td>...</td>\n",
       "      <td>0.533981</td>\n",
       "      <td>0.990385</td>\n",
       "      <td>fdba37</td>\n",
       "      <td>300.45</td>\n",
       "      <td>Bajo</td>\n",
       "      <td>0</td>\n",
       "      <td>0</td>\n",
       "      <td>0</td>\n",
       "      <td>1</td>\n",
       "      <td>0</td>\n",
       "    </tr>\n",
       "    <tr>\n",
       "      <th>1</th>\n",
       "      <td>3909794</td>\n",
       "      <td>2022-04-28 15:38:00</td>\n",
       "      <td>0.88</td>\n",
       "      <td>21.0</td>\n",
       "      <td>1.000000</td>\n",
       "      <td>0.0</td>\n",
       "      <td>6.9</td>\n",
       "      <td>27.3</td>\n",
       "      <td>49.0</td>\n",
       "      <td>0.930233</td>\n",
       "      <td>...</td>\n",
       "      <td>0.553398</td>\n",
       "      <td>1.000000</td>\n",
       "      <td>fdba37</td>\n",
       "      <td>300.45</td>\n",
       "      <td>Bajo</td>\n",
       "      <td>0</td>\n",
       "      <td>0</td>\n",
       "      <td>0</td>\n",
       "      <td>1</td>\n",
       "      <td>0</td>\n",
       "    </tr>\n",
       "    <tr>\n",
       "      <th>2</th>\n",
       "      <td>3909774</td>\n",
       "      <td>2022-04-28 15:37:00</td>\n",
       "      <td>0.88</td>\n",
       "      <td>21.0</td>\n",
       "      <td>1.000000</td>\n",
       "      <td>3.4</td>\n",
       "      <td>4.3</td>\n",
       "      <td>27.3</td>\n",
       "      <td>49.6</td>\n",
       "      <td>0.930233</td>\n",
       "      <td>...</td>\n",
       "      <td>0.543689</td>\n",
       "      <td>1.000000</td>\n",
       "      <td>fdba37</td>\n",
       "      <td>300.45</td>\n",
       "      <td>Mediano</td>\n",
       "      <td>0</td>\n",
       "      <td>0</td>\n",
       "      <td>0</td>\n",
       "      <td>1</td>\n",
       "      <td>0</td>\n",
       "    </tr>\n",
       "    <tr>\n",
       "      <th>3</th>\n",
       "      <td>3909754</td>\n",
       "      <td>2022-04-28 15:36:00</td>\n",
       "      <td>0.88</td>\n",
       "      <td>21.0</td>\n",
       "      <td>0.982627</td>\n",
       "      <td>2.4</td>\n",
       "      <td>3.0</td>\n",
       "      <td>27.6</td>\n",
       "      <td>49.6</td>\n",
       "      <td>0.930233</td>\n",
       "      <td>...</td>\n",
       "      <td>0.533981</td>\n",
       "      <td>1.000000</td>\n",
       "      <td>fdba37</td>\n",
       "      <td>300.75</td>\n",
       "      <td>Bajo</td>\n",
       "      <td>0</td>\n",
       "      <td>0</td>\n",
       "      <td>0</td>\n",
       "      <td>1</td>\n",
       "      <td>0</td>\n",
       "    </tr>\n",
       "    <tr>\n",
       "      <th>4</th>\n",
       "      <td>3909734</td>\n",
       "      <td>2022-04-28 15:35:00</td>\n",
       "      <td>0.87</td>\n",
       "      <td>20.8</td>\n",
       "      <td>1.000000</td>\n",
       "      <td>2.6</td>\n",
       "      <td>3.7</td>\n",
       "      <td>27.3</td>\n",
       "      <td>49.4</td>\n",
       "      <td>0.930233</td>\n",
       "      <td>...</td>\n",
       "      <td>0.543689</td>\n",
       "      <td>1.000000</td>\n",
       "      <td>fdba37</td>\n",
       "      <td>300.45</td>\n",
       "      <td>Bajo</td>\n",
       "      <td>0</td>\n",
       "      <td>0</td>\n",
       "      <td>1</td>\n",
       "      <td>0</td>\n",
       "      <td>0</td>\n",
       "    </tr>\n",
       "  </tbody>\n",
       "</table>\n",
       "<p>5 rows × 21 columns</p>\n",
       "</div>"
      ],
      "text/plain": [
       "        id            timestamp   pmv   ppd       co2  pm25  pm10  temp    hr  \\\n",
       "0  3909814  2022-04-28 15:40:00  0.88  21.0  1.000000   0.0  -1.0  27.3  50.0   \n",
       "1  3909794  2022-04-28 15:38:00  0.88  21.0  1.000000   0.0   6.9  27.3  49.0   \n",
       "2  3909774  2022-04-28 15:37:00  0.88  21.0  1.000000   3.4   4.3  27.3  49.6   \n",
       "3  3909754  2022-04-28 15:36:00  0.88  21.0  0.982627   2.4   3.0  27.6  49.6   \n",
       "4  3909734  2022-04-28 15:35:00  0.87  20.8  1.000000   2.6   3.7  27.3  49.4   \n",
       "\n",
       "        voc  ...       no2    c2h5ch  idnodo temp(K)  pm25-clasificacion  \\\n",
       "0  0.906977  ...  0.533981  0.990385  fdba37  300.45                Bajo   \n",
       "1  0.930233  ...  0.553398  1.000000  fdba37  300.45                Bajo   \n",
       "2  0.930233  ...  0.543689  1.000000  fdba37  300.45             Mediano   \n",
       "3  0.930233  ...  0.533981  1.000000  fdba37  300.75                Bajo   \n",
       "4  0.930233  ...  0.543689  1.000000  fdba37  300.45                Bajo   \n",
       "\n",
       "  disconformidad-19%  disconformidad-20%  20.8  disconformidad-21%  \\\n",
       "0                  0                   0     0                   1   \n",
       "1                  0                   0     0                   1   \n",
       "2                  0                   0     0                   1   \n",
       "3                  0                   0     0                   1   \n",
       "4                  0                   0     1                   0   \n",
       "\n",
       "   disconformidad-22%  \n",
       "0                   0  \n",
       "1                   0  \n",
       "2                   0  \n",
       "3                   0  \n",
       "4                   0  \n",
       "\n",
       "[5 rows x 21 columns]"
      ]
     },
     "execution_count": 148,
     "metadata": {},
     "output_type": "execute_result"
    }
   ],
   "source": [
    "#df.drop(\"ppd\", axis = 1, inplace=True)\n",
    "df.head()"
   ]
  },
  {
   "cell_type": "markdown",
   "metadata": {},
   "source": [
    "# Estadistica de datos\n",
    "- Diagrama histórico del Material Particulado Grueso (PM10), en el cual es posible ver los niveles de mejor forma."
   ]
  },
  {
   "cell_type": "code",
   "execution_count": 149,
   "metadata": {},
   "outputs": [
    {
     "data": {
      "text/plain": [
       "Text(0, 0.5, 'μg/m³')"
      ]
     },
     "execution_count": 149,
     "metadata": {},
     "output_type": "execute_result"
    },
    {
     "data": {
      "image/png": "[encoded data removed]",
      "text/plain": [
       "<Figure size 432x288 with 1 Axes>"
      ]
     },
     "metadata": {
      "needs_background": "light"
     },
     "output_type": "display_data"
    }
   ],
   "source": [
    "hist_pm10 = df['pm10'].plot(title='Histórico de Material Particulado grueso',kind='bar')\n",
    "hist_pm10.set_xlabel(\"timestamp\")\n",
    "hist_pm10.set_ylabel(\"μg/m³\")"
   ]
  },
  {
   "cell_type": "markdown",
   "metadata": {},
   "source": [
    "- Diagrama histórico del Material Particulado fino (PM2.5)"
   ]
  },
  {
   "cell_type": "code",
   "execution_count": 150,
   "metadata": {},
   "outputs": [
    {
     "data": {
      "text/plain": [
       "Text(0, 0.5, 'μg/m³')"
      ]
     },
     "execution_count": 150,
     "metadata": {},
     "output_type": "execute_result"
    },
    {
     "data": {
      "image/png": "[encoded data removed]",
      "text/plain": [
       "<Figure size 432x288 with 1 Axes>"
      ]
     },
     "metadata": {
      "needs_background": "light"
     },
     "output_type": "display_data"
    }
   ],
   "source": [
    "hist_pm25 = df['pm25'].plot(title='Histórico de Material Particulado fino',kind='bar')\n",
    "hist_pm25.set_xlabel(\"timestamp\")\n",
    "hist_pm25.set_ylabel(\"μg/m³\")"
   ]
  },
  {
   "cell_type": "markdown",
   "metadata": {},
   "source": [
    "- Gráfico de puntos de la humedad relativa con respecto al tiempo, en el cual es posible ver la dispersión de los datos."
   ]
  },
  {
   "cell_type": "code",
   "execution_count": 151,
   "metadata": {},
   "outputs": [
    {
     "data": {
      "image/png": "[encoded data removed]",
      "text/plain": [
       "<Figure size 432x288 with 1 Axes>"
      ]
     },
     "metadata": {
      "needs_background": "light"
     },
     "output_type": "display_data"
    }
   ],
   "source": [
    "scat_humedadrelativa_cr_tiempo = df.plot(\"timestamp\", \"hr\", kind=\"scatter\")"
   ]
  },
  {
   "cell_type": "markdown",
   "metadata": {},
   "source": [
    "- Gráfico de puntos de temperatura versus humedad relativa, donde para este caso se debería cumplir que a medida que la temperatura aumenta, el aire se vuelve mas seco, por lo tanto la humedad relativa disminuye."
   ]
  },
  {
   "cell_type": "code",
   "execution_count": 152,
   "metadata": {},
   "outputs": [
    {
     "data": {
      "image/png": "[encoded data removed]",
      "text/plain": [
       "<Figure size 432x288 with 1 Axes>"
      ]
     },
     "metadata": {
      "needs_background": "light"
     },
     "output_type": "display_data"
    }
   ],
   "source": [
    "scat_temperatura_vs_humedadrelativa = df.plot(\"temp\", \"hr\", kind=\"scatter\")"
   ]
  },
  {
   "cell_type": "markdown",
   "metadata": {},
   "source": [
    "## Guardar el dataset como \".csv\"\n",
    "Se guarda el set de datos con el nombre `\"Datos_Procesados\"` que tiene una extensión `\".csv\"` de esta manera se concluye la preparación de nuestros datos y los podríamos utilizar de manera optima en un posterior análisis de datos."
   ]
  },
  {
   "cell_type": "code",
   "execution_count": 163,
   "metadata": {},
   "outputs": [
    {
     "name": "stdout",
     "output_type": "stream",
     "text": [
      "Se guardó el DataFrame con los datos procesados en el archivo: \"Datos_Procesados.csv\"\n"
     ]
    }
   ],
   "source": [
    "df.to_csv(\"./Datos_Procesados.csv\", index=True)\n",
    "print('Se guardó el DataFrame con los datos procesados en el archivo: \"Datos_Procesados.csv\"')"
   ]
  },
  {
   "cell_type": "code",
   "execution_count": null,
   "metadata": {},
   "outputs": [],
   "source": []
  },
  {
   "cell_type": "code",
   "execution_count": null,
   "metadata": {},
   "outputs": [],
   "source": []
  }
 ],
 "metadata": {
  "interpreter": {
   "hash": "1baa965d5efe3ac65b79dfc60c0d706280b1da80fedb7760faf2759126c4f253"
  },
  "kernelspec": {
   "display_name": "Python 3 (ipykernel)",
   "language": "python",
   "name": "python3"
  },
  "language_info": {
   "codemirror_mode": {
    "name": "ipython",
    "version": 3
   },
   "file_extension": ".py",
   "mimetype": "text/x-python",
   "name": "python",
   "nbconvert_exporter": "python",
   "pygments_lexer": "ipython3",
   "version": "3.9.12"
  }
 },
 "nbformat": 4,
 "nbformat_minor": 4
}
